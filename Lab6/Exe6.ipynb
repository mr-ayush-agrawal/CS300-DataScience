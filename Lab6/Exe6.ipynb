{
 "cells": [
  {
   "cell_type": "code",
   "execution_count": 25,
   "metadata": {},
   "outputs": [
    {
     "name": "stdout",
     "output_type": "stream",
     "text": [
      "Total number of working days between 2012-12-12 and 2012-12-19 are 6\n"
     ]
    }
   ],
   "source": [
    "import datetime as dt\n",
    "\n",
    "start = input(\"Enter the start date\")\n",
    "start = dt.datetime.strptime(start, '%Y-%m-%d')\n",
    "end = input(\"Enter the start date\")\n",
    "end = dt.datetime.strptime(end, '%Y-%m-%d')\n",
    "# print(end)\n",
    "days_ct = 0\n",
    "\n",
    "st = start\n",
    "while(st<=end):\n",
    "    # print(st.weekday())\n",
    "    if not (st.weekday() ==5 or st.weekday() ==6):\n",
    "        days_ct+=1\n",
    "    st += dt.timedelta(days=1)\n",
    "\n",
    "start= start.strftime(\"%Y-%m-%d\")\n",
    "end= end.strftime(\"%Y-%m-%d\")\n",
    "\n",
    "print(f\"Total number of working days between {start} and {end} are {days_ct}\")\n"
   ]
  },
  {
   "cell_type": "code",
   "execution_count": 47,
   "metadata": {},
   "outputs": [
    {
     "name": "stdout",
     "output_type": "stream",
     "text": [
      "[[0.97552097 0.42738309 0.92748357]\n",
      " [0.2835223  0.96761322 0.65888643]\n",
      " [0.83997053 0.48646293 0.73090643]]\n",
      "[[0.87860746 0.75612417 0.04300826]\n",
      " [0.63866751 0.93005198 0.53256141]\n",
      " [0.84165552 0.71081393 0.43541434]]\n",
      "[[1.85412843 1.18350727 0.97049182]\n",
      " [0.92218982 1.8976652  1.19144783]\n",
      " [1.68162605 1.19727687 1.16632077]]\n",
      "[[0.8571     0.32315469 0.03988945]\n",
      " [0.18107649 0.89993059 0.35089748]\n",
      " [0.70696583 0.34578463 0.31824714]]\n",
      "[[1.91067736 1.79437172 0.67340285]\n",
      " [1.42164334 1.58265431 0.81439586]\n",
      " [1.66386387 1.60709631 0.6134442 ]]\n",
      "-0.10069441060256444\n",
      "[[ 0.19174718 -2.16870144  2.63362931]\n",
      " [ 1.23553592  2.51510315 -3.19829867]\n",
      " [-2.38765955  0.0861919   2.42708264]]\n"
     ]
    }
   ],
   "source": [
    "import numpy as np\n",
    "# generating 2 matrices\n",
    "matA = np.random.rand(3,3)\n",
    "matB = np.random.rand(3,3)\n",
    "\n",
    "mat_sum = matB + matA\n",
    "mat_pro = matA * matB\n",
    "dot = matA.dot(matB)\n",
    "det = np.linalg.det(matA)\n",
    "\n",
    "print(matA)\n",
    "print(matB)\n",
    "print(mat_sum)\n",
    "print(mat_pro)\n",
    "print(dot)\n",
    "print(det)\n",
    "\n",
    "try :\n",
    "    # detB = np.linalg.det(matB)\n",
    "    inv = np.linalg.inv(matB)\n",
    "    print(inv)\n",
    "except :\n",
    "    print('Matrix B is non-invertible')\n",
    "\n"
   ]
  },
  {
   "cell_type": "code",
   "execution_count": 60,
   "metadata": {},
   "outputs": [
    {
     "name": "stdout",
     "output_type": "stream",
     "text": [
      "  Product  Qty\n",
      "0   Apple   10\n",
      "1  Banana   15\n",
      "2  Orange   20\n",
      "3   Apple   12\n",
      "4  Banana   18\n"
     ]
    },
    {
     "data": {
      "text/html": [
       "<div>\n",
       "<style scoped>\n",
       "    .dataframe tbody tr th:only-of-type {\n",
       "        vertical-align: middle;\n",
       "    }\n",
       "\n",
       "    .dataframe tbody tr th {\n",
       "        vertical-align: top;\n",
       "    }\n",
       "\n",
       "    .dataframe thead th {\n",
       "        text-align: right;\n",
       "    }\n",
       "</style>\n",
       "<table border=\"1\" class=\"dataframe\">\n",
       "  <thead>\n",
       "    <tr style=\"text-align: right;\">\n",
       "      <th></th>\n",
       "      <th>Product</th>\n",
       "      <th>Qty</th>\n",
       "    </tr>\n",
       "  </thead>\n",
       "  <tbody>\n",
       "    <tr>\n",
       "      <th>0</th>\n",
       "      <td>Apple</td>\n",
       "      <td>11.0</td>\n",
       "    </tr>\n",
       "    <tr>\n",
       "      <th>1</th>\n",
       "      <td>Banana</td>\n",
       "      <td>16.5</td>\n",
       "    </tr>\n",
       "    <tr>\n",
       "      <th>2</th>\n",
       "      <td>Orange</td>\n",
       "      <td>20.0</td>\n",
       "    </tr>\n",
       "  </tbody>\n",
       "</table>\n",
       "</div>"
      ],
      "text/plain": [
       "  Product   Qty\n",
       "0   Apple  11.0\n",
       "1  Banana  16.5\n",
       "2  Orange  20.0"
      ]
     },
     "execution_count": 60,
     "metadata": {},
     "output_type": "execute_result"
    }
   ],
   "source": [
    "import pandas as pd\n",
    "dict = {'Product': ['Apple','Banana','Orange','Apple','Banana'],\n",
    "        'Qty' : [10,15,20,12,18]}\n",
    "\n",
    "data = pd.DataFrame(dict)\n",
    "print(data)\n",
    "\n",
    "data_tot = data.groupby('Product').sum().reset_index()\n",
    "print(data_tot)\n",
    "\n",
    "data_mean = data.groupby('Product').mean().reset_index()\n",
    "print(data_mean)"
   ]
  },
  {
   "cell_type": "code",
   "execution_count": 123,
   "metadata": {},
   "outputs": [
    {
     "name": "stdout",
     "output_type": "stream",
     "text": [
      "2023-09-12 15:39:22.468108\n"
     ]
    }
   ],
   "source": [
    "from datetime import datetime\n",
    "print(datetime.now())"
   ]
  },
  {
   "cell_type": "code",
   "execution_count": 122,
   "metadata": {},
   "outputs": [],
   "source": [
    "import keyboard\n",
    "from time import sleep\n",
    "\n",
    "a = '''\n",
    "ar= np.arange(1,9).reshape(2,4)\n",
    "print(ar)\n",
    "\n",
    "mat = ar.reshape(-1,1)\n",
    "mat\n",
    "\n",
    "'''\n",
    "\n",
    "sleep(1.5)\n",
    "keyboard.write(a)"
   ]
  }
 ],
 "metadata": {
  "kernelspec": {
   "display_name": "Python 3",
   "language": "python",
   "name": "python3"
  },
  "language_info": {
   "codemirror_mode": {
    "name": "ipython",
    "version": 3
   },
   "file_extension": ".py",
   "mimetype": "text/x-python",
   "name": "python",
   "nbconvert_exporter": "python",
   "pygments_lexer": "ipython3",
   "version": "3.11.1"
  },
  "orig_nbformat": 4
 },
 "nbformat": 4,
 "nbformat_minor": 2
}

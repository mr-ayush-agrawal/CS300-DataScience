{
 "cells": [
  {
   "cell_type": "code",
   "execution_count": 85,
   "metadata": {},
   "outputs": [
    {
     "ename": "AxisError",
     "evalue": "axis 2 is out of bounds for array of dimension 2",
     "output_type": "error",
     "traceback": [
      "\u001b[1;31m---------------------------------------------------------------------------\u001b[0m",
      "\u001b[1;31mAxisError\u001b[0m                                 Traceback (most recent call last)",
      "\u001b[1;32me:\\CourseCode\\CS3006-DataScience\\Lab7\\Ex7.ipynb Cell 1\u001b[0m line \u001b[0;36m1\n\u001b[0;32m     <a href='vscode-notebook-cell:/e%3A/CourseCode/CS3006-DataScience/Lab7/Ex7.ipynb#W0sZmlsZQ%3D%3D?line=14'>15</a>\u001b[0m ax \u001b[39m=\u001b[39m \u001b[39mint\u001b[39m(\u001b[39minput\u001b[39m(\u001b[39m\"\u001b[39m\u001b[39mEnter axis to concat \u001b[39m\u001b[39m\"\u001b[39m))\n\u001b[0;32m     <a href='vscode-notebook-cell:/e%3A/CourseCode/CS3006-DataScience/Lab7/Ex7.ipynb#W0sZmlsZQ%3D%3D?line=15'>16</a>\u001b[0m dt \u001b[39m=\u001b[39m \u001b[39minput\u001b[39m(\u001b[39m\"\u001b[39m\u001b[39mEnter the datatype\u001b[39m\u001b[39m\"\u001b[39m)\n\u001b[1;32m---> <a href='vscode-notebook-cell:/e%3A/CourseCode/CS3006-DataScience/Lab7/Ex7.ipynb#W0sZmlsZQ%3D%3D?line=16'>17</a>\u001b[0m D2 \u001b[39m=\u001b[39m func(Arr1, Arr2, ax,dt)\n\u001b[0;32m     <a href='vscode-notebook-cell:/e%3A/CourseCode/CS3006-DataScience/Lab7/Ex7.ipynb#W0sZmlsZQ%3D%3D?line=17'>18</a>\u001b[0m \u001b[39mprint\u001b[39m(D2)\n",
      "\u001b[1;32me:\\CourseCode\\CS3006-DataScience\\Lab7\\Ex7.ipynb Cell 1\u001b[0m line \u001b[0;36m5\n\u001b[0;32m      <a href='vscode-notebook-cell:/e%3A/CourseCode/CS3006-DataScience/Lab7/Ex7.ipynb#W0sZmlsZQ%3D%3D?line=3'>4</a>\u001b[0m \u001b[39mdef\u001b[39;00m \u001b[39mfunc\u001b[39m(Arr1,Arr2, a, dt):\n\u001b[1;32m----> <a href='vscode-notebook-cell:/e%3A/CourseCode/CS3006-DataScience/Lab7/Ex7.ipynb#W0sZmlsZQ%3D%3D?line=4'>5</a>\u001b[0m     Arr1 \u001b[39m=\u001b[39m np\u001b[39m.\u001b[39;49mconcatenate([Arr1,Arr2],axis\u001b[39m=\u001b[39;49ma, dtype\u001b[39m=\u001b[39;49mdt)\n\u001b[0;32m      <a href='vscode-notebook-cell:/e%3A/CourseCode/CS3006-DataScience/Lab7/Ex7.ipynb#W0sZmlsZQ%3D%3D?line=5'>6</a>\u001b[0m     \u001b[39mreturn\u001b[39;00m Arr1\n",
      "\u001b[1;31mAxisError\u001b[0m: axis 2 is out of bounds for array of dimension 2"
     ]
    }
   ],
   "source": [
    "import numpy as np\n",
    "\n",
    "def func(Arr1,Arr2, a, dt):\n",
    "    Arr1 = np.concatenate([Arr1,Arr2],axis=a, dtype=dt)\n",
    "    return Arr1\n",
    "    \n",
    "\n",
    "\n",
    "Arr1 = np.arange(6).reshape(3,2)\n",
    "Arr2 = np.arange(6,12).reshape(3,2)\n",
    "\n",
    "# print(Arr1)\n",
    "# print(Arr2)\n",
    "ax = int(input(\"Enter axis to concat \"))\n",
    "dt = input(\"Enter the datatype\")\n",
    "D2 = func(Arr1, Arr2, ax,dt)\n",
    "print(D2)"
   ]
  },
  {
   "cell_type": "code",
   "execution_count": 74,
   "metadata": {},
   "outputs": [],
   "source": [
    "import keyboard as k\n",
    "from time import sleep\n",
    "\n",
    "a = '''\n",
    "import numpy as np\n",
    "\n",
    "def func(Arr1,Arr2, a, dt):\n",
    "    Arr1 = np.concatenate([Arr1,Arr2],axis=a, dtype=dt)\n",
    "    return Arr1\n",
    "    \n",
    "\n",
    "\n",
    "Arr1 = np.arange(6).reshape(3,2)\n",
    "Arr2 = np.arange(6,12).reshape(3,2)\n",
    "\n",
    "# print(Arr1)\n",
    "# print(Arr2)\n",
    "ax = int(input(\"Enter axis to concat \"))\n",
    "dt = input(\"Enter the datatype\")\n",
    "D2 = func(Arr1, Arr2, ax,dt)\n",
    "print(D2)\n",
    "\n",
    "'''\n",
    "sleep(1.5)\n",
    "k.write(a)\n"
   ]
  }
 ],
 "metadata": {
  "kernelspec": {
   "display_name": "Python 3",
   "language": "python",
   "name": "python3"
  },
  "language_info": {
   "codemirror_mode": {
    "name": "ipython",
    "version": 3
   },
   "file_extension": ".py",
   "mimetype": "text/x-python",
   "name": "python",
   "nbconvert_exporter": "python",
   "pygments_lexer": "ipython3",
   "version": "3.11.1"
  },
  "orig_nbformat": 4
 },
 "nbformat": 4,
 "nbformat_minor": 2
}

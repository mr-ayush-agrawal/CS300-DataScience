{
 "cells": [
  {
   "cell_type": "code",
   "execution_count": 49,
   "metadata": {},
   "outputs": [
    {
     "name": "stdout",
     "output_type": "stream",
     "text": [
      "   Length  Width  Area\n",
      "0       4    2.0   8.0\n",
      "1       5    3.0  15.0\n",
      "2       6    2.5  15.0\n",
      "3       7    4.0  28.0\n",
      "4       8    3.5  28.0\n"
     ]
    }
   ],
   "source": [
    "\n",
    "import pandas as pd\n",
    "\n",
    "def Area(row):\n",
    "    return row['Length'] * row['Width']\n",
    "\n",
    "data = pd.DataFrame({'Length': [4,5,6,7,8], 'Width':[2,3,2.5,4,3.5]})\n",
    "ara = []\n",
    "for x in data.index :\n",
    "    ara.append(Area(data.loc[x]))\n",
    "data['Area'] = ara\n",
    "\n",
    "print(data)\n",
    "``"
   ]
  },
  {
   "cell_type": "code",
   "execution_count": 47,
   "metadata": {},
   "outputs": [],
   "source": [
    "from keyboard import write\n",
    "from time import sleep\n",
    "a = '''\n",
    "import pandas as pd\n",
    "import numpy as np\n",
    "\n",
    "emp = pd.DataFrame({'First_Name': ['John','Billy'],'Last_Name': ['ADAMS','WALKER']})\n",
    "emp['First_Name'] = emp['First_Name'].apply(lambda x : x.upper())\n",
    "emp['Last_Name'] = emp['Last_Name'].apply(lambda x : x.lower())\n",
    "\n",
    "emp\n",
    "'''\n",
    "sleep(1)\n",
    "write(a)"
   ]
  }
 ],
 "metadata": {
  "kernelspec": {
   "display_name": "Python 3",
   "language": "python",
   "name": "python3"
  },
  "language_info": {
   "codemirror_mode": {
    "name": "ipython",
    "version": 3
   },
   "file_extension": ".py",
   "mimetype": "text/x-python",
   "name": "python",
   "nbconvert_exporter": "python",
   "pygments_lexer": "ipython3",
   "version": "3.11.1"
  },
  "orig_nbformat": 4
 },
 "nbformat": 4,
 "nbformat_minor": 2
}

{
 "cells": [
  {
   "cell_type": "markdown",
   "metadata": {},
   "source": [
    "#### Q1 - Swapping 2 numbers"
   ]
  },
  {
   "cell_type": "code",
   "execution_count": 6,
   "metadata": {},
   "outputs": [],
   "source": [
    "# Without using temp\n",
    "x = int(input(\"Enter the first number\"))\n",
    "y = int(input(\"Enter the second number\"))\n",
    "\n",
    "x,y = y,x\n",
    "\n",
    "print(x,y)"
   ]
  },
  {
   "cell_type": "code",
   "execution_count": 7,
   "metadata": {},
   "outputs": [],
   "source": [
    "# Using temp var\n",
    "x = int(input(\"Enter the first number\"))\n",
    "y = int(input(\"Enter the second number\"))\n",
    "\n",
    "temp =x\n",
    "x=y\n",
    "y= temp\n",
    "\n",
    "print(x,y)\n"
   ]
  },
  {
   "cell_type": "markdown",
   "metadata": {},
   "source": [
    "#### Q2 - Length of the string\n"
   ]
  },
  {
   "cell_type": "code",
   "execution_count": 8,
   "metadata": {},
   "outputs": [
    {
     "name": "stdout",
     "output_type": "stream",
     "text": [
      "12\n"
     ]
    }
   ],
   "source": [
    "str = input(\"Enter any string \")\n",
    "print(len(str))"
   ]
  },
  {
   "cell_type": "markdown",
   "metadata": {},
   "source": [
    "#### Q3 - Area of circle"
   ]
  },
  {
   "cell_type": "code",
   "execution_count": 20,
   "metadata": {},
   "outputs": [
    {
     "data": {
      "text/plain": [
       "5.471136"
      ]
     },
     "execution_count": 20,
     "metadata": {},
     "output_type": "execute_result"
    }
   ],
   "source": [
    "r = eval(input(\"Enter the Radius\"))\n",
    "area = 3.14*(r**2)\n",
    "area "
   ]
  },
  {
   "cell_type": "markdown",
   "metadata": {},
   "source": [
    "#### Q4 - 3 Variables"
   ]
  },
  {
   "cell_type": "code",
   "execution_count": 10,
   "metadata": {},
   "outputs": [
    {
     "name": "stdout",
     "output_type": "stream",
     "text": [
      "Value of x is  100\n",
      "Value of y is  100\n",
      "Value of z is  100\n"
     ]
    }
   ],
   "source": [
    "x=y= z = int(input(\"Enter the Value\"))\n",
    "\n",
    "print(\"Value of x is \",x)\n",
    "print(\"Value of y is \",y)\n",
    "print(\"Value of z is \",z)"
   ]
  },
  {
   "cell_type": "markdown",
   "metadata": {},
   "source": [
    "#### Q5- List input\n"
   ]
  },
  {
   "cell_type": "code",
   "execution_count": 11,
   "metadata": {},
   "outputs": [
    {
     "data": {
      "text/plain": [
       "[1, 5, 6, 2, 55]"
      ]
     },
     "execution_count": 11,
     "metadata": {},
     "output_type": "execute_result"
    }
   ],
   "source": [
    "lst = input(\"Enter the list seprated by commas\")\n",
    "lst = lst.split(',')\n",
    "\n",
    "lst = [int(x) for x in lst]\n",
    "\n",
    "lst"
   ]
  },
  {
   "cell_type": "markdown",
   "metadata": {},
   "source": [
    "#### Q6 - Reverse name"
   ]
  },
  {
   "cell_type": "code",
   "execution_count": 12,
   "metadata": {},
   "outputs": [
    {
     "name": "stdout",
     "output_type": "stream",
     "text": [
      "The Reverse of the first name is  hsuyA\n",
      "The Reverse of the last name is  lawargA\n"
     ]
    }
   ],
   "source": [
    "fn = input(\"Enter the first name\")\n",
    "ln = input(\"Enter the last name\")\n",
    "\n",
    "fn = fn[::-1]\n",
    "ln = ln[::-1]\n",
    "\n",
    "print(\"The Reverse of the first name is \", fn)\n",
    "print(\"The Reverse of the last name is \", ln)"
   ]
  },
  {
   "cell_type": "markdown",
   "metadata": {},
   "source": [
    "#### Q7 - Age, Name"
   ]
  },
  {
   "cell_type": "code",
   "execution_count": 13,
   "metadata": {},
   "outputs": [
    {
     "name": "stdout",
     "output_type": "stream",
     "text": [
      "Name : Ayush\n",
      "age : 21\n",
      "address : Chennia\n"
     ]
    }
   ],
   "source": [
    "name = input(\"Enter your name\")\n",
    "age = int(input(\"Enter your age\"))\n",
    "address = input(\"Enter your address\")\n",
    "\n",
    "print(\"Name :\", name)\n",
    "print(\"age :\", age)\n",
    "print(\"address :\", address)"
   ]
  },
  {
   "cell_type": "markdown",
   "metadata": {},
   "source": [
    "#### Q8 - Sum of digits"
   ]
  },
  {
   "cell_type": "code",
   "execution_count": 14,
   "metadata": {},
   "outputs": [
    {
     "name": "stdout",
     "output_type": "stream",
     "text": [
      "The sum of digits of 1234 is 10\n"
     ]
    }
   ],
   "source": [
    "num = n = int(input(\"Enter the 4 digit number\"))\n",
    "sum  = 0\n",
    "while n:\n",
    "    t = n%10\n",
    "    n//=10\n",
    "    sum+=t\n",
    "\n",
    "print(f\"The sum of digits of {num} is {sum}\") "
   ]
  },
  {
   "cell_type": "markdown",
   "metadata": {},
   "source": [
    "#### Q4 - Substring Counter"
   ]
  },
  {
   "cell_type": "code",
   "execution_count": 15,
   "metadata": {},
   "outputs": [
    {
     "name": "stdout",
     "output_type": "stream",
     "text": [
      "Total numbers of time Emma Preset in string is  2\n"
     ]
    }
   ],
   "source": [
    "Str = \"\"\"Emma is a good developer. Emma is a good writer\"\"\"\n",
    "ctr =0\n",
    "for n in Str.split(\" \"):\n",
    "    if \"Emma\" in n:\n",
    "        ctr+=1\n",
    "\n",
    "print(\"Total numbers of time Emma Preset in string is \", ctr)"
   ]
  },
  {
   "cell_type": "markdown",
   "metadata": {},
   "source": [
    "#### Q10 - String"
   ]
  },
  {
   "cell_type": "code",
   "execution_count": 16,
   "metadata": {},
   "outputs": [
    {
     "data": {
      "text/plain": [
       "'this is a string'"
      ]
     },
     "execution_count": 16,
     "metadata": {},
     "output_type": "execute_result"
    }
   ],
   "source": [
    "a = \"this is a string\"\n",
    "\n",
    "a"
   ]
  },
  {
   "cell_type": "markdown",
   "metadata": {},
   "source": [
    "#### Q11 - Mathemetical Operations"
   ]
  },
  {
   "cell_type": "code",
   "execution_count": 17,
   "metadata": {},
   "outputs": [
    {
     "name": "stdout",
     "output_type": "stream",
     "text": [
      "x%y =  10\n",
      "x*y =  200\n",
      "x/y =  0.5\n",
      "x//y =  0\n"
     ]
    }
   ],
   "source": [
    "x = 10 \n",
    "y= 20\n",
    "\n",
    "# Modulus\n",
    "print(\"x%y = \", x%y)\n",
    "\n",
    "# Multiplication\n",
    "print(\"x*y = \", x*y)\n",
    "\n",
    "# Float division\n",
    "print(\"x/y = \", x/y)\n",
    "\n",
    "# Floor division\n",
    "print(\"x//y = \", x//y)"
   ]
  },
  {
   "cell_type": "markdown",
   "metadata": {},
   "source": [
    "#### Q12 - First Name, Last Name"
   ]
  },
  {
   "cell_type": "code",
   "execution_count": 18,
   "metadata": {},
   "outputs": [
    {
     "name": "stdout",
     "output_type": "stream",
     "text": [
      "{'fname': ['Sam', 'Roger', 'Sachin', 'Virat', 'Ayush', 44, 45, 55, 35, 21], 'lname': ['Maccoy', 'Federer', 'Tendulkar', 'Kohli', 'Agrawal'], 'age': []}\n"
     ]
    }
   ],
   "source": [
    "tab = {'fname' : [],\n",
    "       'lname' : [],\n",
    "       'age' : []}\n",
    "\n",
    "tab['fname'].extend([\"Sam\", 'Roger', 'Sachin', 'Virat', 'Ayush'])\n",
    "tab['lname'].extend([\"Maccoy\", 'Federer', 'Tendulkar', 'Kohli', 'Agrawal'])\n",
    "tab['fname'].extend([44,45,55,35,21])\n",
    "\n",
    "print(tab)"
   ]
  },
  {
   "cell_type": "markdown",
   "metadata": {},
   "source": [
    "#### Q13 - Split and Join"
   ]
  },
  {
   "cell_type": "code",
   "execution_count": 22,
   "metadata": {},
   "outputs": [],
   "source": [
    "t1 = \"I am awesome\"\n",
    "t1 = t1.split(\" \")\n",
    "t1.append(\"I\")\n",
    "t1.append(\"am\")\n",
    "t1.append(\"best\")\n",
    "\n",
    "t1 = \"-\".join(t1)\n",
    "\n",
    "t2 = \"This is cool\"\n",
    "t2 = t2.split(\" \")\n",
    "t2.append(\"I\")\n",
    "t2.append(\"Love\")\n",
    "t2.append(\"Python\")\n",
    "\n",
    "t2 = \"$\".join(t2)\n",
    "\n",
    "t3 = \"I am loving it\"\n",
    "t3 = t3.split(\" \")\n",
    "t3.append(\"Data\")\n",
    "t3.append(\"Sicience\")\n",
    "t3.append(\"is\")\n",
    "t3.append(\"love\")\n",
    "t3 = \"_\".join(t3)\n",
    "\n",
    "print(t1)\n",
    "print(t2)\n",
    "print(t3)"
   ]
  },
  {
   "cell_type": "markdown",
   "metadata": {},
   "source": [
    "#### Q14 - Vol of Cyl"
   ]
  },
  {
   "cell_type": "code",
   "execution_count": 21,
   "metadata": {},
   "outputs": [
    {
     "name": "stdout",
     "output_type": "stream",
     "text": [
      "The volume of cyl is  3140.0\n"
     ]
    }
   ],
   "source": [
    "r= 10\n",
    "h=10\n",
    "vol = 3.14*(r**2)*h\n",
    "\n",
    "print(\"The volume of cyl is \",vol)"
   ]
  }
 ],
 "metadata": {
  "kernelspec": {
   "display_name": "Python 3",
   "language": "python",
   "name": "python3"
  },
  "language_info": {
   "codemirror_mode": {
    "name": "ipython",
    "version": 3
   },
   "file_extension": ".py",
   "mimetype": "text/x-python",
   "name": "python",
   "nbconvert_exporter": "python",
   "pygments_lexer": "ipython3",
   "version": "3.11.1"
  },
  "orig_nbformat": 4
 },
 "nbformat": 4,
 "nbformat_minor": 2
}

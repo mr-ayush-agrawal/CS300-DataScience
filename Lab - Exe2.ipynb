{
 "cells": [
  {
   "cell_type": "markdown",
   "metadata": {},
   "source": [
    "# Exe A\n"
   ]
  },
  {
   "cell_type": "markdown",
   "metadata": {},
   "source": [
    "### Q1 - Datatype"
   ]
  },
  {
   "cell_type": "code",
   "execution_count": null,
   "metadata": {},
   "outputs": [],
   "source": [
    "a = [1,'hello', 2.43, True, 1+4j]\n",
    "for x in a:\n",
    "    print(type(x))"
   ]
  },
  {
   "cell_type": "code",
   "execution_count": null,
   "metadata": {},
   "outputs": [],
   "source": [
    "p= 2.5\n",
    "q= 486\n",
    "print(\"Datatypes of P and Q : \",type(p),type(q))\n",
    "p=str(p)\n",
    "q=str(q)\n",
    "print(\"Datatypes of P and Q : \",type(p),type(q))"
   ]
  },
  {
   "cell_type": "code",
   "execution_count": null,
   "metadata": {},
   "outputs": [],
   "source": [
    "import random as r\n",
    "print(r.randint(1,10))"
   ]
  },
  {
   "cell_type": "code",
   "execution_count": null,
   "metadata": {},
   "outputs": [],
   "source": [
    "doc = \"\"\"This is Ayush\n",
    "Ayush is awesoome\n",
    "lirmaf\n",
    "adffd\n",
    "fasf\n",
    "gsdg\n",
    "asgdg\n",
    "asdf\"\"\"\n",
    "\n",
    "print(doc)\n"
   ]
  },
  {
   "cell_type": "code",
   "execution_count": null,
   "metadata": {},
   "outputs": [],
   "source": [
    "x = \"hello world\"\n",
    "chrs = x[2:]\n",
    "print(chrs)"
   ]
  },
  {
   "cell_type": "markdown",
   "metadata": {},
   "source": [
    "## Upper Case COnversion"
   ]
  },
  {
   "cell_type": "code",
   "execution_count": null,
   "metadata": {},
   "outputs": [],
   "source": [
    "x= \"iiitdm kancheepuram\"\n",
    "x= x.upper()\n",
    "x"
   ]
  },
  {
   "cell_type": "code",
   "execution_count": null,
   "metadata": {},
   "outputs": [],
   "source": [
    "x= \"pyhton\"\n",
    "x= x.upper()\n",
    "x"
   ]
  },
  {
   "cell_type": "markdown",
   "metadata": {},
   "source": [
    "## Char interchange "
   ]
  },
  {
   "cell_type": "code",
   "execution_count": null,
   "metadata": {},
   "outputs": [],
   "source": [
    "str = \"Ayush\"\n",
    "chrs = [x for x in str]\n",
    "chrs[0], chrs[-1] = chrs[-1],chrs[0]\n",
    "str = \"\".join(chrs)\n",
    "print(str)"
   ]
  },
  {
   "cell_type": "code",
   "execution_count": null,
   "metadata": {},
   "outputs": [],
   "source": [
    "ch = input(\"Enter \")[0]\n",
    "if ch.isupper() :\n",
    "    print(f\"{ch} is in upper case\")\n",
    "else :\n",
    "    print(f\"{ch} is in lower case\")"
   ]
  },
  {
   "cell_type": "code",
   "execution_count": null,
   "metadata": {},
   "outputs": [],
   "source": [
    "n = int(input(\"Enter the number \"))\n",
    "if n%2==0:\n",
    "    print(\"It's a even number\")\n",
    "else:\n",
    "    print(\"It's a odd number\")"
   ]
  },
  {
   "cell_type": "code",
   "execution_count": null,
   "metadata": {},
   "outputs": [],
   "source": [
    "a= int(input(\"Enter the first number \"))\n",
    "b= int(input(\"Enter the second number \"))\n",
    "c= int(input(\"Enter the third number \"))\n",
    "\n",
    "print(f\"The Maximum of {a,b,c} is {max(a,b,c)}\")"
   ]
  },
  {
   "cell_type": "markdown",
   "metadata": {},
   "source": [
    "## first second and last"
   ]
  },
  {
   "cell_type": "code",
   "execution_count": null,
   "metadata": {},
   "outputs": [],
   "source": [
    "str = \"Ayush is Awesome\"\n",
    "t=\"\"\n",
    "t += str[0]\n",
    "t += str[1]\n",
    "t += str[-1]\n",
    "print(t)"
   ]
  },
  {
   "cell_type": "code",
   "execution_count": null,
   "metadata": {},
   "outputs": [],
   "source": [
    "str=\"you are a good person.\"\n",
    "ans = \"\"\n",
    "for x in str:\n",
    "    if x == '.':\n",
    "        ans+='!'\n",
    "    else:\n",
    "        ans+=x\n",
    "ans\n"
   ]
  },
  {
   "cell_type": "code",
   "execution_count": null,
   "metadata": {},
   "outputs": [],
   "source": [
    "str=\"The best revenge is massive success.\"\n",
    "print(\"The first occurence of v is \", str.index('v'))"
   ]
  },
  {
   "cell_type": "code",
   "execution_count": null,
   "metadata": {},
   "outputs": [],
   "source": [
    "name = \"James\"\n",
    "str=\"\"\n",
    "str += name[0]\n",
    "str += name[len(name)//2]\n",
    "str += name[-1]\n",
    "print(str)"
   ]
  },
  {
   "cell_type": "markdown",
   "metadata": {},
   "source": [
    "## Palindeome"
   ]
  },
  {
   "cell_type": "code",
   "execution_count": null,
   "metadata": {},
   "outputs": [],
   "source": [
    "str = 'malayalam'\n",
    "for x in range(len(str)//2):\n",
    "    if str[x]!=str[-x-1]:\n",
    "        print(\"Its not a palindrome\")\n",
    "        break\n",
    "else :\n",
    "    print(\"The string is a palindrome\")"
   ]
  },
  {
   "cell_type": "markdown",
   "metadata": {},
   "source": [
    "## Free in string"
   ]
  },
  {
   "cell_type": "code",
   "execution_count": null,
   "metadata": {},
   "outputs": [],
   "source": [
    "str = \"The best things in life are free!\"\n",
    "\n",
    "print('free' in str)"
   ]
  },
  {
   "cell_type": "markdown",
   "metadata": {},
   "source": [
    "## List "
   ]
  },
  {
   "cell_type": "code",
   "execution_count": null,
   "metadata": {},
   "outputs": [],
   "source": [
    "A= []\n",
    "print(\"1. Insertion at i\")\n",
    "print(\"2. Insertion at end\")\n",
    "print(\"3. Removing from end\")\n",
    "print(\"4. Reverse\")\n",
    "print(\"5. Exit\")\n",
    "\n",
    "\n",
    "while True:\n",
    "    print(\"Current List is : \",A)\n",
    "    ch = int(input(\"Enter the selection \"))\n",
    "\n",
    "    if ch == 1:\n",
    "        inp = int(input(\"ENter the number\"))\n",
    "        idx = int(input(\"Enter the index to input the number\"))\n",
    "        A.insert(idx, inp)\n",
    "    elif ch==2:\n",
    "        inp = int(input(\"ENter the number\"))\n",
    "        A.append(inp)\n",
    "    elif ch == 3 :\n",
    "        A.pop()\n",
    "    elif ch == 4:\n",
    "        A= A[::-1]\n",
    "    else :\n",
    "        print(\"Aborting the program\")\n",
    "        exit()"
   ]
  },
  {
   "cell_type": "markdown",
   "metadata": {},
   "source": [
    "# Exe - B"
   ]
  },
  {
   "cell_type": "markdown",
   "metadata": {},
   "source": []
  }
 ],
 "metadata": {
  "kernelspec": {
   "display_name": "Python 3",
   "language": "python",
   "name": "python3"
  },
  "language_info": {
   "codemirror_mode": {
    "name": "ipython",
    "version": 3
   },
   "file_extension": ".py",
   "mimetype": "text/x-python",
   "name": "python",
   "nbconvert_exporter": "python",
   "pygments_lexer": "ipython3",
   "version": "3.11.1"
  },
  "orig_nbformat": 4
 },
 "nbformat": 4,
 "nbformat_minor": 2
}

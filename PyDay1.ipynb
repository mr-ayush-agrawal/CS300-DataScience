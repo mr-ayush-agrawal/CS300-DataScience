{
 "cells": [
  {
   "cell_type": "markdown",
   "metadata": {},
   "source": [
    "# Statement in Python\n",
    "\n",
    "Date : Aug-01-2023"
   ]
  },
  {
   "cell_type": "code",
   "execution_count": null,
   "metadata": {},
   "outputs": [],
   "source": [
    "s = 1 + 3 + 5 \\\n",
    "    + 234 + 7\n",
    "\n",
    "print(s)"
   ]
  },
  {
   "cell_type": "markdown",
   "metadata": {},
   "source": [
    "### Making a list"
   ]
  },
  {
   "cell_type": "code",
   "execution_count": null,
   "metadata": {},
   "outputs": [],
   "source": [
    "footballers = [\"Messi\", \"Chetri\", \"Naymar\", \"Ronaldo\"]\n",
    "print(footballers)"
   ]
  },
  {
   "cell_type": "markdown",
   "metadata": {},
   "source": [
    "## Types of Variable naming\n",
    "\n",
    "1. Camel Case - **myVariableName**\n",
    "1. Pascal Case - **MyVariableName**\n",
    "1. Snake Case - **my_variable_name**"
   ]
  },
  {
   "cell_type": "markdown",
   "metadata": {},
   "source": [
    "#### Topics Covered\n",
    "- Indentation\n",
    "- Variable naming\n",
    "- Comments\n",
    "- ..."
   ]
  },
  {
   "cell_type": "markdown",
   "metadata": {},
   "source": [
    "# PyString"
   ]
  },
  {
   "cell_type": "code",
   "execution_count": 1,
   "metadata": {},
   "outputs": [
    {
     "name": "stdout",
     "output_type": "stream",
     "text": [
      "Ayush Agrawal LuciFerr\n"
     ]
    }
   ],
   "source": [
    "str1 = 'Ayush'\n",
    "str2 = \"Agrawal\"\n",
    "str3 = '''LuciFerr'''\n",
    "\n",
    "print(str1,str2,str3)"
   ]
  },
  {
   "cell_type": "code",
   "execution_count": 4,
   "metadata": {},
   "outputs": [
    {
     "name": "stdout",
     "output_type": "stream",
     "text": [
      "L\tu\tc\ti\tF\te\tr\tr\t\n",
      "8\n"
     ]
    }
   ],
   "source": [
    "for ch in str3:\n",
    "    print(ch, end= \"\\t\")\n",
    "print()\n",
    "\n",
    "print(len(str3))"
   ]
  },
  {
   "cell_type": "code",
   "execution_count": 5,
   "metadata": {},
   "outputs": [
    {
     "name": "stdout",
     "output_type": "stream",
     "text": [
      "ohoooo!!!\n"
     ]
    }
   ],
   "source": [
    "text = \"I am a brilient person\"\n",
    "if 'per' in text:\n",
    "    print('ohoooo!!!')\n"
   ]
  },
  {
   "cell_type": "markdown",
   "metadata": {},
   "source": [
    "Slicing"
   ]
  },
  {
   "cell_type": "code",
   "execution_count": 8,
   "metadata": {},
   "outputs": [
    {
     "name": "stdout",
     "output_type": "stream",
     "text": [
      " mabiin esn\n"
     ]
    }
   ],
   "source": [
    "print(text[1::2])"
   ]
  },
  {
   "cell_type": "code",
   "execution_count": 17,
   "metadata": {},
   "outputs": [
    {
     "name": "stdout",
     "output_type": "stream",
     "text": [
      "asf#asg_a&s agas gasd@ga sga s-ga gsas fgas g 45\n"
     ]
    },
    {
     "data": {
      "text/plain": [
       "62"
      ]
     },
     "execution_count": 17,
     "metadata": {},
     "output_type": "execute_result"
    }
   ],
   "source": [
    "text = \"        asf#asg_a&s agas gasd@ga sga s-ga gsas fgas g         \"\n",
    "print(text.strip(),len(text.strip() ))\n",
    "len(text)"
   ]
  },
  {
   "cell_type": "code",
   "execution_count": 19,
   "metadata": {},
   "outputs": [
    {
     "name": "stdout",
     "output_type": "stream",
     "text": [
      "['asf#asg_a&s', 'agas', 'gasd@ga', 'sga', 's-ga', 'gsas', 'fgas', 'g']\n"
     ]
    },
    {
     "ename": "TypeError",
     "evalue": "must be str or None, not list",
     "output_type": "error",
     "traceback": [
      "\u001b[1;31m---------------------------------------------------------------------------\u001b[0m",
      "\u001b[1;31mTypeError\u001b[0m                                 Traceback (most recent call last)",
      "Cell \u001b[1;32mIn[19], line 4\u001b[0m\n\u001b[0;32m      1\u001b[0m text1 \u001b[39m=\u001b[39m text\u001b[39m.\u001b[39msplit()\n\u001b[0;32m      2\u001b[0m \u001b[39mprint\u001b[39m(text1)\n\u001b[1;32m----> 4\u001b[0m text2 \u001b[39m=\u001b[39m text\u001b[39m.\u001b[39;49msplit([\u001b[39m\"\u001b[39;49m\u001b[39m \u001b[39;49m\u001b[39m\"\u001b[39;49m, \u001b[39m\"\u001b[39;49m\u001b[39m@\u001b[39;49m\u001b[39m\"\u001b[39;49m,\u001b[39m\"\u001b[39;49m\u001b[39m#\u001b[39;49m\u001b[39m\"\u001b[39;49m])\n\u001b[0;32m      5\u001b[0m text2\n",
      "\u001b[1;31mTypeError\u001b[0m: must be str or None, not list"
     ]
    }
   ],
   "source": [
    "text1 = text.split()\n",
    "print(text1)\n",
    "\n",
    "text2 = text.split([\" \", \"@\",\"#\"])\n",
    "text2"
   ]
  },
  {
   "cell_type": "code",
   "execution_count": 22,
   "metadata": {},
   "outputs": [
    {
     "name": "stdout",
     "output_type": "stream",
     "text": [
      "('Ayush', 'Agrawal')\n"
     ]
    }
   ],
   "source": [
    "str4 = str1 , str2\n",
    "print(str4)"
   ]
  },
  {
   "cell_type": "markdown",
   "metadata": {},
   "source": [
    "#### Other things taught in the class\n",
    "- Escape Sequences\n",
    "- Slicing\n",
    "- concting\n",
    "- capitalize\n"
   ]
  }
 ],
 "metadata": {
  "kernelspec": {
   "display_name": "Python 3",
   "language": "python",
   "name": "python3"
  },
  "language_info": {
   "codemirror_mode": {
    "name": "ipython",
    "version": 3
   },
   "file_extension": ".py",
   "mimetype": "text/x-python",
   "name": "python",
   "nbconvert_exporter": "python",
   "pygments_lexer": "ipython3",
   "version": "3.11.1"
  },
  "orig_nbformat": 4
 },
 "nbformat": 4,
 "nbformat_minor": 2
}

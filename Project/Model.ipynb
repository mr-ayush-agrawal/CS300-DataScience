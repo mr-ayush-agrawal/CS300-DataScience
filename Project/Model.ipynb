{
 "cells": [
  {
   "cell_type": "markdown",
   "metadata": {},
   "source": [
    "## Modeling"
   ]
  },
  {
   "cell_type": "code",
   "execution_count": 1,
   "metadata": {},
   "outputs": [
    {
     "data": {
      "text/html": [
       "<div>\n",
       "<style scoped>\n",
       "    .dataframe tbody tr th:only-of-type {\n",
       "        vertical-align: middle;\n",
       "    }\n",
       "\n",
       "    .dataframe tbody tr th {\n",
       "        vertical-align: top;\n",
       "    }\n",
       "\n",
       "    .dataframe thead th {\n",
       "        text-align: right;\n",
       "    }\n",
       "</style>\n",
       "<table border=\"1\" class=\"dataframe\">\n",
       "  <thead>\n",
       "    <tr style=\"text-align: right;\">\n",
       "      <th></th>\n",
       "      <th>Menu_Item</th>\n",
       "      <th>Westage</th>\n",
       "      <th>Count</th>\n",
       "    </tr>\n",
       "  </thead>\n",
       "  <tbody>\n",
       "    <tr>\n",
       "      <th>0</th>\n",
       "      <td>Dosa</td>\n",
       "      <td>12.91</td>\n",
       "      <td>241</td>\n",
       "    </tr>\n",
       "    <tr>\n",
       "      <th>1</th>\n",
       "      <td>Idly, Vada</td>\n",
       "      <td>18.03</td>\n",
       "      <td>428</td>\n",
       "    </tr>\n",
       "  </tbody>\n",
       "</table>\n",
       "</div>"
      ],
      "text/plain": [
       "    Menu_Item  Westage  Count\n",
       "0        Dosa    12.91    241\n",
       "1  Idly, Vada    18.03    428"
      ]
     },
     "execution_count": 1,
     "metadata": {},
     "output_type": "execute_result"
    }
   ],
   "source": [
    "import numpy as np\n",
    "import pandas as pd \n",
    "data = pd.read_csv('Long_form.csv')\n",
    "data.head(2)"
   ]
  },
  {
   "cell_type": "code",
   "execution_count": 2,
   "metadata": {},
   "outputs": [
    {
     "name": "stdout",
     "output_type": "stream",
     "text": [
      "Idly, Vada\n"
     ]
    },
    {
     "data": {
      "text/plain": [
       "str"
      ]
     },
     "execution_count": 2,
     "metadata": {},
     "output_type": "execute_result"
    }
   ],
   "source": [
    "print(data.iloc[1,0])\n",
    "type(data.iloc[1,0])"
   ]
  },
  {
   "cell_type": "code",
   "execution_count": 3,
   "metadata": {},
   "outputs": [
    {
     "data": {
      "text/plain": [
       "(368, 3)"
      ]
     },
     "execution_count": 3,
     "metadata": {},
     "output_type": "execute_result"
    }
   ],
   "source": [
    "data.shape"
   ]
  },
  {
   "cell_type": "code",
   "execution_count": 4,
   "metadata": {},
   "outputs": [],
   "source": [
    "def convert(obj):\n",
    "    lst = obj.split(', ')\n",
    "    Final = []\n",
    "    for dish in lst:\n",
    "        Final.append(dish.replace(' ',''))\n",
    "\n",
    "    return \" \".join(Final)"
   ]
  },
  {
   "cell_type": "code",
   "execution_count": 5,
   "metadata": {},
   "outputs": [
    {
     "data": {
      "text/html": [
       "<div>\n",
       "<style scoped>\n",
       "    .dataframe tbody tr th:only-of-type {\n",
       "        vertical-align: middle;\n",
       "    }\n",
       "\n",
       "    .dataframe tbody tr th {\n",
       "        vertical-align: top;\n",
       "    }\n",
       "\n",
       "    .dataframe thead th {\n",
       "        text-align: right;\n",
       "    }\n",
       "</style>\n",
       "<table border=\"1\" class=\"dataframe\">\n",
       "  <thead>\n",
       "    <tr style=\"text-align: right;\">\n",
       "      <th></th>\n",
       "      <th>Menu_Item</th>\n",
       "      <th>Westage</th>\n",
       "      <th>Count</th>\n",
       "    </tr>\n",
       "  </thead>\n",
       "  <tbody>\n",
       "    <tr>\n",
       "      <th>44</th>\n",
       "      <td>Poori ChannaMasala</td>\n",
       "      <td>12.69</td>\n",
       "      <td>264</td>\n",
       "    </tr>\n",
       "    <tr>\n",
       "      <th>228</th>\n",
       "      <td>SweetCorn</td>\n",
       "      <td>8.76</td>\n",
       "      <td>607</td>\n",
       "    </tr>\n",
       "    <tr>\n",
       "      <th>4</th>\n",
       "      <td>AlooParatha ChannaMasala Raitha</td>\n",
       "      <td>17.78</td>\n",
       "      <td>392</td>\n",
       "    </tr>\n",
       "    <tr>\n",
       "      <th>30</th>\n",
       "      <td>Poori ChannaMasala</td>\n",
       "      <td>16.34</td>\n",
       "      <td>340</td>\n",
       "    </tr>\n",
       "    <tr>\n",
       "      <th>348</th>\n",
       "      <td>Dosa Rice Sambhar AlooPodimas</td>\n",
       "      <td>15.82</td>\n",
       "      <td>609</td>\n",
       "    </tr>\n",
       "    <tr>\n",
       "      <th>284</th>\n",
       "      <td>SpecialDinner</td>\n",
       "      <td>13.91</td>\n",
       "      <td>640</td>\n",
       "    </tr>\n",
       "    <tr>\n",
       "      <th>114</th>\n",
       "      <td>Phulka MixedDal BrinjalPoriyal MixVegKarakozhambu</td>\n",
       "      <td>21.78</td>\n",
       "      <td>622</td>\n",
       "    </tr>\n",
       "    <tr>\n",
       "      <th>161</th>\n",
       "      <td>Phulka DalMakhani BhindiFry Rice Sambhar</td>\n",
       "      <td>20.75</td>\n",
       "      <td>597</td>\n",
       "    </tr>\n",
       "    <tr>\n",
       "      <th>110</th>\n",
       "      <td>Phulka CornPeasMasala SproutedDal Rice</td>\n",
       "      <td>15.31</td>\n",
       "      <td>444</td>\n",
       "    </tr>\n",
       "    <tr>\n",
       "      <th>341</th>\n",
       "      <td>Dosa Chutney Rice MixedDal AlooPeasDry</td>\n",
       "      <td>13.04</td>\n",
       "      <td>527</td>\n",
       "    </tr>\n",
       "    <tr>\n",
       "      <th>61</th>\n",
       "      <td>Uthappam</td>\n",
       "      <td>13.17</td>\n",
       "      <td>326</td>\n",
       "    </tr>\n",
       "    <tr>\n",
       "      <th>216</th>\n",
       "      <td>MilletSnack</td>\n",
       "      <td>4.11</td>\n",
       "      <td>264</td>\n",
       "    </tr>\n",
       "    <tr>\n",
       "      <th>192</th>\n",
       "      <td>SweetCorn</td>\n",
       "      <td>6.08</td>\n",
       "      <td>421</td>\n",
       "    </tr>\n",
       "    <tr>\n",
       "      <th>336</th>\n",
       "      <td>Phulka PaneerButterMasala Rice Sambhar</td>\n",
       "      <td>12.84</td>\n",
       "      <td>524</td>\n",
       "    </tr>\n",
       "    <tr>\n",
       "      <th>155</th>\n",
       "      <td>Phulka VegKurma BeetrootChannaPoriyal Rice Vat...</td>\n",
       "      <td>21.74</td>\n",
       "      <td>603</td>\n",
       "    </tr>\n",
       "    <tr>\n",
       "      <th>188</th>\n",
       "      <td>MilletSnack</td>\n",
       "      <td>4.24</td>\n",
       "      <td>272</td>\n",
       "    </tr>\n",
       "    <tr>\n",
       "      <th>64</th>\n",
       "      <td>Dosa Sambhar</td>\n",
       "      <td>14.03</td>\n",
       "      <td>303</td>\n",
       "    </tr>\n",
       "    <tr>\n",
       "      <th>203</th>\n",
       "      <td>Pancake</td>\n",
       "      <td>5.79</td>\n",
       "      <td>346</td>\n",
       "    </tr>\n",
       "    <tr>\n",
       "      <th>115</th>\n",
       "      <td>Poori PunjabiAlooMatar KovakaiFry Rice AndhraT...</td>\n",
       "      <td>21.42</td>\n",
       "      <td>619</td>\n",
       "    </tr>\n",
       "    <tr>\n",
       "      <th>334</th>\n",
       "      <td>Dosa Rice Sambhar AlooPodimas</td>\n",
       "      <td>12.49</td>\n",
       "      <td>481</td>\n",
       "    </tr>\n",
       "  </tbody>\n",
       "</table>\n",
       "</div>"
      ],
      "text/plain": [
       "                                             Menu_Item  Westage  Count\n",
       "44                                  Poori ChannaMasala    12.69    264\n",
       "228                                          SweetCorn     8.76    607\n",
       "4                      AlooParatha ChannaMasala Raitha    17.78    392\n",
       "30                                  Poori ChannaMasala    16.34    340\n",
       "348                      Dosa Rice Sambhar AlooPodimas    15.82    609\n",
       "284                                      SpecialDinner    13.91    640\n",
       "114  Phulka MixedDal BrinjalPoriyal MixVegKarakozhambu    21.78    622\n",
       "161           Phulka DalMakhani BhindiFry Rice Sambhar    20.75    597\n",
       "110             Phulka CornPeasMasala SproutedDal Rice    15.31    444\n",
       "341             Dosa Chutney Rice MixedDal AlooPeasDry    13.04    527\n",
       "61                                            Uthappam    13.17    326\n",
       "216                                        MilletSnack     4.11    264\n",
       "192                                          SweetCorn     6.08    421\n",
       "336             Phulka PaneerButterMasala Rice Sambhar    12.84    524\n",
       "155  Phulka VegKurma BeetrootChannaPoriyal Rice Vat...    21.74    603\n",
       "188                                        MilletSnack     4.24    272\n",
       "64                                        Dosa Sambhar    14.03    303\n",
       "203                                            Pancake     5.79    346\n",
       "115  Poori PunjabiAlooMatar KovakaiFry Rice AndhraT...    21.42    619\n",
       "334                      Dosa Rice Sambhar AlooPodimas    12.49    481"
      ]
     },
     "execution_count": 5,
     "metadata": {},
     "output_type": "execute_result"
    }
   ],
   "source": [
    "data['Menu_Item'] = data['Menu_Item'].apply(convert)\n",
    "data.sample(20)"
   ]
  },
  {
   "cell_type": "code",
   "execution_count": 6,
   "metadata": {},
   "outputs": [
    {
     "data": {
      "text/html": [
       "<div>\n",
       "<style scoped>\n",
       "    .dataframe tbody tr th:only-of-type {\n",
       "        vertical-align: middle;\n",
       "    }\n",
       "\n",
       "    .dataframe tbody tr th {\n",
       "        vertical-align: top;\n",
       "    }\n",
       "\n",
       "    .dataframe thead th {\n",
       "        text-align: right;\n",
       "    }\n",
       "</style>\n",
       "<table border=\"1\" class=\"dataframe\">\n",
       "  <thead>\n",
       "    <tr style=\"text-align: right;\">\n",
       "      <th></th>\n",
       "      <th>Menu_Item</th>\n",
       "      <th>Westage</th>\n",
       "      <th>Count</th>\n",
       "    </tr>\n",
       "  </thead>\n",
       "  <tbody>\n",
       "    <tr>\n",
       "      <th>0</th>\n",
       "      <td>Dosa</td>\n",
       "      <td>12.91</td>\n",
       "      <td>241</td>\n",
       "    </tr>\n",
       "    <tr>\n",
       "      <th>1</th>\n",
       "      <td>Idly Vada</td>\n",
       "      <td>18.03</td>\n",
       "      <td>428</td>\n",
       "    </tr>\n",
       "  </tbody>\n",
       "</table>\n",
       "</div>"
      ],
      "text/plain": [
       "   Menu_Item  Westage  Count\n",
       "0       Dosa    12.91    241\n",
       "1  Idly Vada    18.03    428"
      ]
     },
     "execution_count": 6,
     "metadata": {},
     "output_type": "execute_result"
    }
   ],
   "source": [
    "data.head(2)"
   ]
  },
  {
   "cell_type": "code",
   "execution_count": 7,
   "metadata": {},
   "outputs": [
    {
     "data": {
      "text/plain": [
       "str"
      ]
     },
     "execution_count": 7,
     "metadata": {},
     "output_type": "execute_result"
    }
   ],
   "source": [
    "type(data.iloc[1,0])"
   ]
  },
  {
   "cell_type": "code",
   "execution_count": 8,
   "metadata": {},
   "outputs": [
    {
     "data": {
      "text/plain": [
       "Menu_Item\n",
       "Dosa                                                                      13\n",
       "SweetCorn                                                                 13\n",
       "OnionPakoda                                                               13\n",
       "Idly Vada                                                                 13\n",
       "DahiVada                                                                  13\n",
       "AlooSamosa                                                                12\n",
       "Phulka ToorDal VegKurma Rice                                               7\n",
       "Idly Podi Chutney Rice Sambhar                                             7\n",
       "Phulka PaneerButterMasala Rice Sambhar                                     7\n",
       "BananaBajji                                                                7\n",
       "Maggi                                                                      7\n",
       "Dosa Rice Sambhar AlooPodimas                                              7\n",
       "MilletSnack                                                                7\n",
       "Pancake                                                                    7\n",
       "MirchiBajji                                                                7\n",
       "LachaParatha VegKofta Rice                                                 7\n",
       "Phulka MealMakerCurry FriedRice Manchurian                                 7\n",
       "Phulka KadaiPaneer VegBiryani Rice                                         7\n",
       "Phulka VegKurma BeetrootChannaPoriyal Rice Vathakolambu                    7\n",
       "Phulka PeasMasala AlooMasalaWedges Rice Sambhar                            7\n",
       "Poori PotatoMasala                                                         7\n",
       "Poori ChannaMasala                                                         7\n",
       "SemiyaUpma Poha MysoreBonda                                                7\n",
       "AlooParatha ChannaMasala Raitha                                            7\n",
       "Uthappam                                                                   7\n",
       "Pesarattu Upma                                                             7\n",
       "Phulka PalakPaneer VegBiryani                                              7\n",
       "Poori DumAloo BeansCarrotPoriyal Rice Vathakolambu                         7\n",
       "Phulka Panchratandal OnionPakoda PeruguPachadi Rice BrinjalMochaiGravy     7\n",
       "Phulka RajmaDal AlooGobiMatarDry Rice Sambhar                              7\n",
       "Phulka PumpkinKaalaChanna Rice BeetrootChanaPoriyal                        7\n",
       "Phulka CornPeasMasala SproutedDal Rice                                     7\n",
       "Phulka AlooGobiMatar PaneerBiryani                                         7\n",
       "Dosa Chutney Rice MixedDal AlooPeasDry                                     6\n",
       "SpecialDinner                                                              6\n",
       "Phulka ChannaPeasPalak Khichichadi Curd Rice Aloo65                        6\n",
       "Phulka VegCurry Rice Dal                                                   6\n",
       "Phulka MixVegKurma FriedRice Manchurian                                    6\n",
       "Phulka DalMakhani BhindiFry Rice Sambhar                                   6\n",
       "ChannaChat                                                                 6\n",
       "Phulka PaneerButterMasala VegBiryani OnionRaitha                           6\n",
       "Phulka MixVegCurry ChilliSoyaBeanDry PeruguPachadi Rice Sambhar            6\n",
       "Phulka MixVegMatar LaukiChanadal Gobi65 Rice                               6\n",
       "Poori PunjabiAlooMatar KovakaiFry Rice AndhraTomatoDal                     6\n",
       "Phulka MixedDal BrinjalPoriyal MixVegKarakozhambu                          6\n",
       "Pongal MysoreBonda                                                         6\n",
       "MethiParatha ChannaMasala                                                  6\n",
       "ChowChowBath MysoreBonda                                                   6\n",
       "Dosa Sambhar                                                               6\n",
       "CholeBhature OnionMirchSalad Rice SnakeGourdKootu                          6\n",
       "Name: count, dtype: int64"
      ]
     },
     "execution_count": 8,
     "metadata": {},
     "output_type": "execute_result"
    }
   ],
   "source": [
    "data.Menu_Item.value_counts()"
   ]
  },
  {
   "cell_type": "markdown",
   "metadata": {},
   "source": [
    "## Model "
   ]
  },
  {
   "cell_type": "code",
   "execution_count": 9,
   "metadata": {},
   "outputs": [],
   "source": [
    "from sklearn.feature_extraction.text import CountVectorizer\n",
    "\n",
    "cv = CountVectorizer()"
   ]
  },
  {
   "cell_type": "code",
   "execution_count": 10,
   "metadata": {},
   "outputs": [
    {
     "data": {
      "text/plain": [
       "(368, 87)"
      ]
     },
     "execution_count": 10,
     "metadata": {},
     "output_type": "execute_result"
    }
   ],
   "source": [
    "vectors = cv.fit_transform(data['Menu_Item']).toarray()\n",
    "vectors.shape"
   ]
  },
  {
   "cell_type": "markdown",
   "metadata": {},
   "source": [
    "## Splitting Training and Testing For Westage"
   ]
  },
  {
   "cell_type": "code",
   "execution_count": 11,
   "metadata": {},
   "outputs": [],
   "source": [
    "from sklearn.model_selection import train_test_split\n",
    "\n",
    "x_train, x_test, y_train, y_test = train_test_split(vectors, data['Westage'], test_size=.15, random_state=len(data))"
   ]
  },
  {
   "cell_type": "code",
   "execution_count": 12,
   "metadata": {},
   "outputs": [
    {
     "name": "stdout",
     "output_type": "stream",
     "text": [
      "(312, 87)\n",
      "(56, 87)\n",
      "(312,)\n",
      "(56,)\n"
     ]
    }
   ],
   "source": [
    "print(x_train.shape)\n",
    "print(x_test.shape)\n",
    "print(y_train.shape)\n",
    "print(y_test.shape)"
   ]
  },
  {
   "cell_type": "markdown",
   "metadata": {},
   "source": [
    "## Selecting Different Models"
   ]
  },
  {
   "cell_type": "markdown",
   "metadata": {},
   "source": [
    "### Linear Regression"
   ]
  },
  {
   "cell_type": "markdown",
   "metadata": {},
   "source": [
    "### Decision Tree Regressor"
   ]
  },
  {
   "cell_type": "code",
   "execution_count": 14,
   "metadata": {},
   "outputs": [],
   "source": [
    "from sklearn.tree import DecisionTreeRegressor\n",
    "model = DecisionTreeRegressor()"
   ]
  },
  {
   "cell_type": "markdown",
   "metadata": {},
   "source": [
    "### Random Forest Regressor"
   ]
  },
  {
   "cell_type": "code",
   "execution_count": 15,
   "metadata": {},
   "outputs": [],
   "source": [
    "from sklearn.ensemble import RandomForestRegressor\n",
    "model = RandomForestRegressor()"
   ]
  },
  {
   "cell_type": "markdown",
   "metadata": {},
   "source": [
    "### Support Vector Regression"
   ]
  },
  {
   "cell_type": "code",
   "execution_count": 16,
   "metadata": {},
   "outputs": [],
   "source": [
    "from sklearn.svm import SVR\n",
    "model = SVR()"
   ]
  },
  {
   "cell_type": "markdown",
   "metadata": {},
   "source": [
    "### Gradient Boosting Regressor\n",
    "Gaussian Naive Byes"
   ]
  },
  {
   "cell_type": "code",
   "execution_count": 17,
   "metadata": {},
   "outputs": [],
   "source": [
    "from sklearn.ensemble import GradientBoostingRegressor\n",
    "model = GradientBoostingRegressor()"
   ]
  },
  {
   "cell_type": "markdown",
   "metadata": {},
   "source": [
    "### Neural Network Regressor"
   ]
  },
  {
   "cell_type": "code",
   "execution_count": 18,
   "metadata": {},
   "outputs": [],
   "source": [
    "from sklearn.neural_network import MLPRegressor\n",
    "model = MLPRegressor()"
   ]
  },
  {
   "cell_type": "code",
   "execution_count": 19,
   "metadata": {},
   "outputs": [
    {
     "name": "stderr",
     "output_type": "stream",
     "text": [
      "e:\\Setup\\Python\\Lib\\site-packages\\sklearn\\neural_network\\_multilayer_perceptron.py:691: ConvergenceWarning: Stochastic Optimizer: Maximum iterations (200) reached and the optimization hasn't converged yet.\n",
      "  warnings.warn(\n"
     ]
    },
    {
     "data": {
      "text/html": [
       "<style>#sk-container-id-1 {color: black;}#sk-container-id-1 pre{padding: 0;}#sk-container-id-1 div.sk-toggleable {background-color: white;}#sk-container-id-1 label.sk-toggleable__label {cursor: pointer;display: block;width: 100%;margin-bottom: 0;padding: 0.3em;box-sizing: border-box;text-align: center;}#sk-container-id-1 label.sk-toggleable__label-arrow:before {content: \"▸\";float: left;margin-right: 0.25em;color: #696969;}#sk-container-id-1 label.sk-toggleable__label-arrow:hover:before {color: black;}#sk-container-id-1 div.sk-estimator:hover label.sk-toggleable__label-arrow:before {color: black;}#sk-container-id-1 div.sk-toggleable__content {max-height: 0;max-width: 0;overflow: hidden;text-align: left;background-color: #f0f8ff;}#sk-container-id-1 div.sk-toggleable__content pre {margin: 0.2em;color: black;border-radius: 0.25em;background-color: #f0f8ff;}#sk-container-id-1 input.sk-toggleable__control:checked~div.sk-toggleable__content {max-height: 200px;max-width: 100%;overflow: auto;}#sk-container-id-1 input.sk-toggleable__control:checked~label.sk-toggleable__label-arrow:before {content: \"▾\";}#sk-container-id-1 div.sk-estimator input.sk-toggleable__control:checked~label.sk-toggleable__label {background-color: #d4ebff;}#sk-container-id-1 div.sk-label input.sk-toggleable__control:checked~label.sk-toggleable__label {background-color: #d4ebff;}#sk-container-id-1 input.sk-hidden--visually {border: 0;clip: rect(1px 1px 1px 1px);clip: rect(1px, 1px, 1px, 1px);height: 1px;margin: -1px;overflow: hidden;padding: 0;position: absolute;width: 1px;}#sk-container-id-1 div.sk-estimator {font-family: monospace;background-color: #f0f8ff;border: 1px dotted black;border-radius: 0.25em;box-sizing: border-box;margin-bottom: 0.5em;}#sk-container-id-1 div.sk-estimator:hover {background-color: #d4ebff;}#sk-container-id-1 div.sk-parallel-item::after {content: \"\";width: 100%;border-bottom: 1px solid gray;flex-grow: 1;}#sk-container-id-1 div.sk-label:hover label.sk-toggleable__label {background-color: #d4ebff;}#sk-container-id-1 div.sk-serial::before {content: \"\";position: absolute;border-left: 1px solid gray;box-sizing: border-box;top: 0;bottom: 0;left: 50%;z-index: 0;}#sk-container-id-1 div.sk-serial {display: flex;flex-direction: column;align-items: center;background-color: white;padding-right: 0.2em;padding-left: 0.2em;position: relative;}#sk-container-id-1 div.sk-item {position: relative;z-index: 1;}#sk-container-id-1 div.sk-parallel {display: flex;align-items: stretch;justify-content: center;background-color: white;position: relative;}#sk-container-id-1 div.sk-item::before, #sk-container-id-1 div.sk-parallel-item::before {content: \"\";position: absolute;border-left: 1px solid gray;box-sizing: border-box;top: 0;bottom: 0;left: 50%;z-index: -1;}#sk-container-id-1 div.sk-parallel-item {display: flex;flex-direction: column;z-index: 1;position: relative;background-color: white;}#sk-container-id-1 div.sk-parallel-item:first-child::after {align-self: flex-end;width: 50%;}#sk-container-id-1 div.sk-parallel-item:last-child::after {align-self: flex-start;width: 50%;}#sk-container-id-1 div.sk-parallel-item:only-child::after {width: 0;}#sk-container-id-1 div.sk-dashed-wrapped {border: 1px dashed gray;margin: 0 0.4em 0.5em 0.4em;box-sizing: border-box;padding-bottom: 0.4em;background-color: white;}#sk-container-id-1 div.sk-label label {font-family: monospace;font-weight: bold;display: inline-block;line-height: 1.2em;}#sk-container-id-1 div.sk-label-container {text-align: center;}#sk-container-id-1 div.sk-container {/* jupyter's `normalize.less` sets `[hidden] { display: none; }` but bootstrap.min.css set `[hidden] { display: none !important; }` so we also need the `!important` here to be able to override the default hidden behavior on the sphinx rendered scikit-learn.org. See: https://github.com/scikit-learn/scikit-learn/issues/21755 */display: inline-block !important;position: relative;}#sk-container-id-1 div.sk-text-repr-fallback {display: none;}</style><div id=\"sk-container-id-1\" class=\"sk-top-container\"><div class=\"sk-text-repr-fallback\"><pre>MLPRegressor()</pre><b>In a Jupyter environment, please rerun this cell to show the HTML representation or trust the notebook. <br />On GitHub, the HTML representation is unable to render, please try loading this page with nbviewer.org.</b></div><div class=\"sk-container\" hidden><div class=\"sk-item\"><div class=\"sk-estimator sk-toggleable\"><input class=\"sk-toggleable__control sk-hidden--visually\" id=\"sk-estimator-id-1\" type=\"checkbox\" checked><label for=\"sk-estimator-id-1\" class=\"sk-toggleable__label sk-toggleable__label-arrow\">MLPRegressor</label><div class=\"sk-toggleable__content\"><pre>MLPRegressor()</pre></div></div></div></div></div>"
      ],
      "text/plain": [
       "MLPRegressor()"
      ]
     },
     "execution_count": 19,
     "metadata": {},
     "output_type": "execute_result"
    }
   ],
   "source": [
    "model.fit(x_train, y_train)"
   ]
  },
  {
   "cell_type": "code",
   "execution_count": 20,
   "metadata": {},
   "outputs": [],
   "source": [
    "y_train_pre = model.predict(x_train)\n",
    "y_pre = model.predict(x_test)"
   ]
  },
  {
   "cell_type": "markdown",
   "metadata": {},
   "source": [
    "# Evaluation"
   ]
  },
  {
   "cell_type": "code",
   "execution_count": 21,
   "metadata": {},
   "outputs": [],
   "source": [
    "from sklearn.metrics import mean_squared_error, r2_score"
   ]
  },
  {
   "cell_type": "markdown",
   "metadata": {},
   "source": [
    "#### Training Set"
   ]
  },
  {
   "cell_type": "code",
   "execution_count": 22,
   "metadata": {},
   "outputs": [
    {
     "name": "stdout",
     "output_type": "stream",
     "text": [
      "5.526312394632671\n",
      "0.8477791922433235\n"
     ]
    }
   ],
   "source": [
    "RMSE = mean_squared_error(y_train, y_train_pre)\n",
    "R2 = r2_score(y_train, y_train_pre)\n",
    "# Accuracy = model.score(x_train, y_train)\n",
    "\n",
    "\n",
    "print(RMSE)\n",
    "print(R2)\n",
    "# print(Accuracy)"
   ]
  },
  {
   "cell_type": "markdown",
   "metadata": {},
   "source": [
    "#### Testing Set"
   ]
  },
  {
   "cell_type": "code",
   "execution_count": 23,
   "metadata": {},
   "outputs": [
    {
     "name": "stdout",
     "output_type": "stream",
     "text": [
      "7.390298914665002\n",
      "0.8466055260575328\n"
     ]
    }
   ],
   "source": [
    "RMSE = mean_squared_error(y_test, y_pre)\n",
    "R2 = r2_score(y_test, y_pre)\n",
    "# Accuracy = model.score(x_test, y_test)\n",
    "\n",
    "\n",
    "print(RMSE)\n",
    "print(R2)\n",
    "# print(Accuracy)"
   ]
  },
  {
   "cell_type": "markdown",
   "metadata": {},
   "source": [
    "# Results\n",
    "\n",
    "The Results and accuracy scores of the models as summary\n",
    "\n",
    "### Wastage\n",
    "\n",
    "| Model | Train/Test | RMSE | R2 Score|\n",
    "|-------|------------|------|---------|\n",
    "| Linear Regression | Train | 5.387168726471041 | 0.8885819065769296 |\n",
    "| Linear Regression | Test | 6.165576225981842 | 0.8598599395694546 |\n",
    "| Decison Tree Regressor | Train | 3.822037457053275 | 0.8947229929393822 |\n",
    "| Decison Tree Regressor | Test | 6.399925922950648 | 0.8671618994634029 |\n",
    "| Random Forest Regressor | Train | 3.8300151552084847 | 0.8945032493616568 |\n",
    "| Random Forest Regressor | Test | 6.279218965718302 | 0.8696673164187455 |\n",
    "| Gradient Boosting Regressor | Train | 5.889639200602035 | 0.837771451830743 |\n",
    "| Gradient Boosting Regressor | Train | 8.77539541398132 | 0.8178561951677401 |\n",
    "| Support Vector Regressor | Train | 7.273659611899595 | 0.7996489770383194 |\n",
    "| Support Vector Regressor | Test | 10.488283623342653 | 0.7823031561322215 |\n",
    "| MPL Regressor | Train | 5.521357362319088 | 0.847915677292914 |\n",
    "| MPL Regressor | Train | 7.453949223457471 | 0.8452843879349432 |\n",
    "\n",
    "From the above Table we can say that Random Forest Regressor is the best Regression model for our Task of calculating wastage\n"
   ]
  }
 ],
 "metadata": {
  "kernelspec": {
   "display_name": "Python 3",
   "language": "python",
   "name": "python3"
  },
  "language_info": {
   "codemirror_mode": {
    "name": "ipython",
    "version": 3
   },
   "file_extension": ".py",
   "mimetype": "text/x-python",
   "name": "python",
   "nbconvert_exporter": "python",
   "pygments_lexer": "ipython3",
   "version": "3.11.1"
  }
 },
 "nbformat": 4,
 "nbformat_minor": 2
}

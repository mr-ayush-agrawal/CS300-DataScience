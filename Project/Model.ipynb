{
 "cells": [
  {
   "cell_type": "code",
   "execution_count": 79,
   "metadata": {},
   "outputs": [
    {
     "data": {
      "text/html": [
       "<div>\n",
       "<style scoped>\n",
       "    .dataframe tbody tr th:only-of-type {\n",
       "        vertical-align: middle;\n",
       "    }\n",
       "\n",
       "    .dataframe tbody tr th {\n",
       "        vertical-align: top;\n",
       "    }\n",
       "\n",
       "    .dataframe thead th {\n",
       "        text-align: right;\n",
       "    }\n",
       "</style>\n",
       "<table border=\"1\" class=\"dataframe\">\n",
       "  <thead>\n",
       "    <tr style=\"text-align: right;\">\n",
       "      <th></th>\n",
       "      <th>Day</th>\n",
       "      <th>Month</th>\n",
       "      <th>Year</th>\n",
       "      <th>Day_Of_Week</th>\n",
       "      <th>day_index</th>\n",
       "      <th>Breakfast</th>\n",
       "      <th>Breakfast_Wastage</th>\n",
       "      <th>Lunch</th>\n",
       "      <th>Lunch_Wastage</th>\n",
       "      <th>Snacks</th>\n",
       "      <th>Snacks_Wastage</th>\n",
       "      <th>Dinner</th>\n",
       "      <th>Dinner_Wastage</th>\n",
       "      <th>Total_Daily_Comsumers</th>\n",
       "      <th>Total_Daily_Wastage</th>\n",
       "      <th>BFMenu</th>\n",
       "      <th>LunchMenu</th>\n",
       "      <th>SnkMenu</th>\n",
       "      <th>DinMenu</th>\n",
       "    </tr>\n",
       "  </thead>\n",
       "  <tbody>\n",
       "    <tr>\n",
       "      <th>0</th>\n",
       "      <td>1</td>\n",
       "      <td>8</td>\n",
       "      <td>2023</td>\n",
       "      <td>Tue</td>\n",
       "      <td>1</td>\n",
       "      <td>241</td>\n",
       "      <td>19.36</td>\n",
       "      <td>522</td>\n",
       "      <td>31.11</td>\n",
       "      <td>291</td>\n",
       "      <td>13.47</td>\n",
       "      <td>456</td>\n",
       "      <td>24.58</td>\n",
       "      <td>1510</td>\n",
       "      <td>88.52</td>\n",
       "      <td>Dosa</td>\n",
       "      <td>Poori, Dum Aloo, Beans Carrot Poriyal, Rice, V...</td>\n",
       "      <td>Banana Bajji</td>\n",
       "      <td>Phulka, Meal Maker Curry, Fried Rice, Manchurian</td>\n",
       "    </tr>\n",
       "    <tr>\n",
       "      <th>1</th>\n",
       "      <td>2</td>\n",
       "      <td>8</td>\n",
       "      <td>2023</td>\n",
       "      <td>Wed</td>\n",
       "      <td>2</td>\n",
       "      <td>428</td>\n",
       "      <td>27.05</td>\n",
       "      <td>623</td>\n",
       "      <td>35.73</td>\n",
       "      <td>319</td>\n",
       "      <td>12.31</td>\n",
       "      <td>674</td>\n",
       "      <td>34.74</td>\n",
       "      <td>2044</td>\n",
       "      <td>109.83</td>\n",
       "      <td>Idly, Vada</td>\n",
       "      <td>Phulka, Panchratan dal, Onion Pakoda, Perugu P...</td>\n",
       "      <td>Dahi Vada</td>\n",
       "      <td>Phulka, Palak Paneer, Veg Biryani</td>\n",
       "    </tr>\n",
       "  </tbody>\n",
       "</table>\n",
       "</div>"
      ],
      "text/plain": [
       "   Day  Month  Year Day_Of_Week  day_index  Breakfast  Breakfast_Wastage  \\\n",
       "0    1      8  2023         Tue          1        241              19.36   \n",
       "1    2      8  2023         Wed          2        428              27.05   \n",
       "\n",
       "   Lunch  Lunch_Wastage  Snacks  Snacks_Wastage  Dinner  Dinner_Wastage  \\\n",
       "0    522          31.11     291           13.47     456           24.58   \n",
       "1    623          35.73     319           12.31     674           34.74   \n",
       "\n",
       "   Total_Daily_Comsumers  Total_Daily_Wastage      BFMenu  \\\n",
       "0                   1510                88.52        Dosa   \n",
       "1                   2044               109.83  Idly, Vada   \n",
       "\n",
       "                                           LunchMenu       SnkMenu  \\\n",
       "0  Poori, Dum Aloo, Beans Carrot Poriyal, Rice, V...  Banana Bajji   \n",
       "1  Phulka, Panchratan dal, Onion Pakoda, Perugu P...     Dahi Vada   \n",
       "\n",
       "                                            DinMenu  \n",
       "0  Phulka, Meal Maker Curry, Fried Rice, Manchurian  \n",
       "1                 Phulka, Palak Paneer, Veg Biryani  "
      ]
     },
     "execution_count": 79,
     "metadata": {},
     "output_type": "execute_result"
    }
   ],
   "source": [
    "import pandas as pd \n",
    "data = pd.read_csv('Merged.csv')\n",
    "data.head(2)"
   ]
  },
  {
   "cell_type": "code",
   "execution_count": 80,
   "metadata": {},
   "outputs": [
    {
     "data": {
      "text/plain": [
       "str"
      ]
     },
     "execution_count": 80,
     "metadata": {},
     "output_type": "execute_result"
    }
   ],
   "source": [
    "type(data.iloc[0].BFMenu)"
   ]
  },
  {
   "cell_type": "markdown",
   "metadata": {},
   "source": [
    "### Converting The Menu \n",
    "Current it is in the String format to List "
   ]
  },
  {
   "cell_type": "code",
   "execution_count": 83,
   "metadata": {},
   "outputs": [],
   "source": [
    "def convert(obj):\n",
    "    lst = obj.split(', ')\n",
    "    Final = []\n",
    "    for dish in lst:\n",
    "        Final.append(dish.replace(' ',''))\n",
    "\n",
    "    return \" \".join(Final)"
   ]
  },
  {
   "cell_type": "code",
   "execution_count": 84,
   "metadata": {},
   "outputs": [],
   "source": [
    "data['BFMenu'] = data['BFMenu'].apply(convert)\n",
    "data['LunchMenu'] = data['LunchMenu'].apply(convert)\n",
    "data['SnkMenu'] = data['SnkMenu'].apply(convert)\n",
    "data['DinMenu'] = data['DinMenu'].apply(convert)"
   ]
  },
  {
   "cell_type": "code",
   "execution_count": 85,
   "metadata": {},
   "outputs": [
    {
     "data": {
      "text/html": [
       "<div>\n",
       "<style scoped>\n",
       "    .dataframe tbody tr th:only-of-type {\n",
       "        vertical-align: middle;\n",
       "    }\n",
       "\n",
       "    .dataframe tbody tr th {\n",
       "        vertical-align: top;\n",
       "    }\n",
       "\n",
       "    .dataframe thead th {\n",
       "        text-align: right;\n",
       "    }\n",
       "</style>\n",
       "<table border=\"1\" class=\"dataframe\">\n",
       "  <thead>\n",
       "    <tr style=\"text-align: right;\">\n",
       "      <th></th>\n",
       "      <th>Day</th>\n",
       "      <th>Month</th>\n",
       "      <th>Year</th>\n",
       "      <th>Day_Of_Week</th>\n",
       "      <th>day_index</th>\n",
       "      <th>Breakfast</th>\n",
       "      <th>Breakfast_Wastage</th>\n",
       "      <th>Lunch</th>\n",
       "      <th>Lunch_Wastage</th>\n",
       "      <th>Snacks</th>\n",
       "      <th>Snacks_Wastage</th>\n",
       "      <th>Dinner</th>\n",
       "      <th>Dinner_Wastage</th>\n",
       "      <th>Total_Daily_Comsumers</th>\n",
       "      <th>Total_Daily_Wastage</th>\n",
       "      <th>BFMenu</th>\n",
       "      <th>LunchMenu</th>\n",
       "      <th>SnkMenu</th>\n",
       "      <th>DinMenu</th>\n",
       "    </tr>\n",
       "  </thead>\n",
       "  <tbody>\n",
       "    <tr>\n",
       "      <th>0</th>\n",
       "      <td>1</td>\n",
       "      <td>8</td>\n",
       "      <td>2023</td>\n",
       "      <td>Tue</td>\n",
       "      <td>1</td>\n",
       "      <td>241</td>\n",
       "      <td>19.36</td>\n",
       "      <td>522</td>\n",
       "      <td>31.11</td>\n",
       "      <td>291</td>\n",
       "      <td>13.47</td>\n",
       "      <td>456</td>\n",
       "      <td>24.58</td>\n",
       "      <td>1510</td>\n",
       "      <td>88.52</td>\n",
       "      <td>Dosa</td>\n",
       "      <td>Poori DumAloo BeansCarrotPoriyal Rice Vathakol...</td>\n",
       "      <td>BananaBajji</td>\n",
       "      <td>Phulka MealMakerCurry FriedRice Manchurian</td>\n",
       "    </tr>\n",
       "  </tbody>\n",
       "</table>\n",
       "</div>"
      ],
      "text/plain": [
       "   Day  Month  Year Day_Of_Week  day_index  Breakfast  Breakfast_Wastage  \\\n",
       "0    1      8  2023         Tue          1        241              19.36   \n",
       "\n",
       "   Lunch  Lunch_Wastage  Snacks  Snacks_Wastage  Dinner  Dinner_Wastage  \\\n",
       "0    522          31.11     291           13.47     456           24.58   \n",
       "\n",
       "   Total_Daily_Comsumers  Total_Daily_Wastage BFMenu  \\\n",
       "0                   1510                88.52   Dosa   \n",
       "\n",
       "                                           LunchMenu      SnkMenu  \\\n",
       "0  Poori DumAloo BeansCarrotPoriyal Rice Vathakol...  BananaBajji   \n",
       "\n",
       "                                      DinMenu  \n",
       "0  Phulka MealMakerCurry FriedRice Manchurian  "
      ]
     },
     "execution_count": 85,
     "metadata": {},
     "output_type": "execute_result"
    }
   ],
   "source": [
    "data.head(1)"
   ]
  },
  {
   "cell_type": "code",
   "execution_count": 86,
   "metadata": {},
   "outputs": [
    {
     "data": {
      "text/plain": [
       "'Poori DumAloo BeansCarrotPoriyal Rice Vathakolambu Rasam Curd'"
      ]
     },
     "execution_count": 86,
     "metadata": {},
     "output_type": "execute_result"
    }
   ],
   "source": [
    "data.iloc[0].LunchMenu"
   ]
  },
  {
   "cell_type": "code",
   "execution_count": 87,
   "metadata": {},
   "outputs": [
    {
     "data": {
      "text/plain": [
       "LunchMenu\n",
       "Poori DumAloo BeansCarrotPoriyal Rice Vathakolambu Rasam Curd                   7\n",
       "Phulka Panchratandal OnionPakoda PeruguPachadi Rice BrinjalMochaiGravy Rasam    7\n",
       "Phulka RajmaDal AlooGobiMatarDry Rice Rasam Sambhar                             7\n",
       "Phulka PumpkinKaalaChanna Rice BeetrootChanaPoriyal Rasam Curd                  7\n",
       "Phulka CornPeasMasala SproutedDal Rice Rasam Curd                               7\n",
       "Phulka AlooGobiMatar PaneerBiryani                                              7\n",
       "Phulka PeasMasala AlooMasalaWedges Rice Sambhar Rasam Curd                      7\n",
       "Phulka VegKurma BeetrootChannaPoriyal Rice Vathakolambu Rasam Curd              7\n",
       "Phulka MixedDal BrinjalPoriyal MixVegKarakozhambu Rasam Curd                    6\n",
       "Poori PunjabiAlooMatar KovakaiFry Rice AndhraTomatoDal Rasam Curd               6\n",
       "Phulka MixVegMatar LaukiChanadal Gobi65 Rice Rasam                              6\n",
       "Phulka MixVegCurry ChilliSoyaBeanDry PeruguPachadi Rice Sambhar Rasam Curd      6\n",
       "Phulka PaneerButterMasala VegBiryani OnionRaitha                                6\n",
       "Phulka DalMakhani BhindiFry Rice Sambhar Rasam Curd                             6\n",
       "Name: count, dtype: int64"
      ]
     },
     "execution_count": 87,
     "metadata": {},
     "output_type": "execute_result"
    }
   ],
   "source": [
    "data.LunchMenu.value_counts()"
   ]
  },
  {
   "cell_type": "markdown",
   "metadata": {},
   "source": [
    "## Model "
   ]
  },
  {
   "cell_type": "code",
   "execution_count": 88,
   "metadata": {},
   "outputs": [],
   "source": [
    "from sklearn.feature_extraction.text import CountVectorizer\n",
    "\n",
    "cv = CountVectorizer()"
   ]
  },
  {
   "cell_type": "code",
   "execution_count": 89,
   "metadata": {},
   "outputs": [
    {
     "data": {
      "text/plain": [
       "(92, 18)"
      ]
     },
     "execution_count": 89,
     "metadata": {},
     "output_type": "execute_result"
    }
   ],
   "source": [
    "vectors = cv.fit_transform(data['BFMenu']).toarray()\n",
    "vectors.shape"
   ]
  },
  {
   "cell_type": "code",
   "execution_count": 90,
   "metadata": {},
   "outputs": [
    {
     "data": {
      "text/plain": [
       "array([[0, 0, 0, ..., 0, 0, 0],\n",
       "       [0, 0, 0, ..., 0, 0, 1],\n",
       "       [0, 1, 0, ..., 0, 0, 0],\n",
       "       ...,\n",
       "       [0, 0, 0, ..., 0, 1, 0],\n",
       "       [0, 0, 0, ..., 1, 0, 0],\n",
       "       [0, 0, 0, ..., 0, 0, 0]], dtype=int64)"
      ]
     },
     "execution_count": 90,
     "metadata": {},
     "output_type": "execute_result"
    }
   ],
   "source": [
    "vectors"
   ]
  }
 ],
 "metadata": {
  "kernelspec": {
   "display_name": "Python 3",
   "language": "python",
   "name": "python3"
  },
  "language_info": {
   "codemirror_mode": {
    "name": "ipython",
    "version": 3
   },
   "file_extension": ".py",
   "mimetype": "text/x-python",
   "name": "python",
   "nbconvert_exporter": "python",
   "pygments_lexer": "ipython3",
   "version": "3.11.1"
  }
 },
 "nbformat": 4,
 "nbformat_minor": 2
}

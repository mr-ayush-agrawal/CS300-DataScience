{
 "cells": [
  {
   "cell_type": "code",
   "execution_count": 1,
   "metadata": {},
   "outputs": [
    {
     "data": {
      "text/html": [
       "<div>\n",
       "<style scoped>\n",
       "    .dataframe tbody tr th:only-of-type {\n",
       "        vertical-align: middle;\n",
       "    }\n",
       "\n",
       "    .dataframe tbody tr th {\n",
       "        vertical-align: top;\n",
       "    }\n",
       "\n",
       "    .dataframe thead th {\n",
       "        text-align: right;\n",
       "    }\n",
       "</style>\n",
       "<table border=\"1\" class=\"dataframe\">\n",
       "  <thead>\n",
       "    <tr style=\"text-align: right;\">\n",
       "      <th></th>\n",
       "      <th>Menu_Item</th>\n",
       "      <th>Westage</th>\n",
       "      <th>Count</th>\n",
       "    </tr>\n",
       "  </thead>\n",
       "  <tbody>\n",
       "    <tr>\n",
       "      <th>0</th>\n",
       "      <td>Dosa</td>\n",
       "      <td>12.91</td>\n",
       "      <td>241</td>\n",
       "    </tr>\n",
       "    <tr>\n",
       "      <th>1</th>\n",
       "      <td>Idly, Vada</td>\n",
       "      <td>18.03</td>\n",
       "      <td>428</td>\n",
       "    </tr>\n",
       "  </tbody>\n",
       "</table>\n",
       "</div>"
      ],
      "text/plain": [
       "    Menu_Item  Westage  Count\n",
       "0        Dosa    12.91    241\n",
       "1  Idly, Vada    18.03    428"
      ]
     },
     "execution_count": 1,
     "metadata": {},
     "output_type": "execute_result"
    }
   ],
   "source": [
    "import pandas as pd \n",
    "data = pd.read_csv('Long_form.csv')\n",
    "data.head(2)"
   ]
  },
  {
   "cell_type": "code",
   "execution_count": 2,
   "metadata": {},
   "outputs": [
    {
     "name": "stdout",
     "output_type": "stream",
     "text": [
      "Idly, Vada\n"
     ]
    },
    {
     "data": {
      "text/plain": [
       "str"
      ]
     },
     "execution_count": 2,
     "metadata": {},
     "output_type": "execute_result"
    }
   ],
   "source": [
    "print(data.iloc[1,0])\n",
    "type(data.iloc[1,0])"
   ]
  },
  {
   "cell_type": "code",
   "execution_count": 4,
   "metadata": {},
   "outputs": [],
   "source": [
    "def convert(obj):\n",
    "    lst = obj.split(', ')\n",
    "    Final = []\n",
    "    for dish in lst:\n",
    "        Final.append(dish.replace(' ',''))\n",
    "\n",
    "    return \" \".join(Final)"
   ]
  },
  {
   "cell_type": "code",
   "execution_count": 5,
   "metadata": {},
   "outputs": [
    {
     "data": {
      "text/html": [
       "<div>\n",
       "<style scoped>\n",
       "    .dataframe tbody tr th:only-of-type {\n",
       "        vertical-align: middle;\n",
       "    }\n",
       "\n",
       "    .dataframe tbody tr th {\n",
       "        vertical-align: top;\n",
       "    }\n",
       "\n",
       "    .dataframe thead th {\n",
       "        text-align: right;\n",
       "    }\n",
       "</style>\n",
       "<table border=\"1\" class=\"dataframe\">\n",
       "  <thead>\n",
       "    <tr style=\"text-align: right;\">\n",
       "      <th></th>\n",
       "      <th>Menu_Item</th>\n",
       "      <th>Westage</th>\n",
       "      <th>Count</th>\n",
       "    </tr>\n",
       "  </thead>\n",
       "  <tbody>\n",
       "    <tr>\n",
       "      <th>162</th>\n",
       "      <td>Poori DumAloo BeansCarrotPoriyal Rice Vathakol...</td>\n",
       "      <td>25.21</td>\n",
       "      <td>719</td>\n",
       "    </tr>\n",
       "    <tr>\n",
       "      <th>88</th>\n",
       "      <td>AlooParatha ChannaMasala Raitha</td>\n",
       "      <td>16.73</td>\n",
       "      <td>369</td>\n",
       "    </tr>\n",
       "    <tr>\n",
       "      <th>78</th>\n",
       "      <td>Dosa Sambhar</td>\n",
       "      <td>13.70</td>\n",
       "      <td>296</td>\n",
       "    </tr>\n",
       "    <tr>\n",
       "      <th>87</th>\n",
       "      <td>SemiyaUpma Poha MysoreBonda</td>\n",
       "      <td>17.33</td>\n",
       "      <td>386</td>\n",
       "    </tr>\n",
       "    <tr>\n",
       "      <th>232</th>\n",
       "      <td>OnionPakoda</td>\n",
       "      <td>4.33</td>\n",
       "      <td>363</td>\n",
       "    </tr>\n",
       "    <tr>\n",
       "      <th>13</th>\n",
       "      <td>Pongal MysoreBonda</td>\n",
       "      <td>18.64</td>\n",
       "      <td>455</td>\n",
       "    </tr>\n",
       "    <tr>\n",
       "      <th>96</th>\n",
       "      <td>Phulka CornPeasMasala SproutedDal Rice</td>\n",
       "      <td>14.73</td>\n",
       "      <td>427</td>\n",
       "    </tr>\n",
       "    <tr>\n",
       "      <th>168</th>\n",
       "      <td>Phulka PeasMasala AlooMasalaWedges Rice Sambhar</td>\n",
       "      <td>26.52</td>\n",
       "      <td>761</td>\n",
       "    </tr>\n",
       "    <tr>\n",
       "      <th>98</th>\n",
       "      <td>Phulka PeasMasala AlooMasalaWedges Rice Sambhar</td>\n",
       "      <td>17.49</td>\n",
       "      <td>502</td>\n",
       "    </tr>\n",
       "    <tr>\n",
       "      <th>127</th>\n",
       "      <td>Phulka VegKurma BeetrootChannaPoriyal Rice Vat...</td>\n",
       "      <td>23.94</td>\n",
       "      <td>664</td>\n",
       "    </tr>\n",
       "    <tr>\n",
       "      <th>46</th>\n",
       "      <td>AlooParatha ChannaMasala Raitha</td>\n",
       "      <td>18.19</td>\n",
       "      <td>401</td>\n",
       "    </tr>\n",
       "    <tr>\n",
       "      <th>192</th>\n",
       "      <td>SweetCorn</td>\n",
       "      <td>6.08</td>\n",
       "      <td>421</td>\n",
       "    </tr>\n",
       "    <tr>\n",
       "      <th>91</th>\n",
       "      <td>Poori PotatoMasala</td>\n",
       "      <td>18.09</td>\n",
       "      <td>413</td>\n",
       "    </tr>\n",
       "    <tr>\n",
       "      <th>360</th>\n",
       "      <td>Phulka MealMakerCurry FriedRice Manchurian</td>\n",
       "      <td>10.24</td>\n",
       "      <td>380</td>\n",
       "    </tr>\n",
       "    <tr>\n",
       "      <th>264</th>\n",
       "      <td>ChannaChat</td>\n",
       "      <td>5.20</td>\n",
       "      <td>379</td>\n",
       "    </tr>\n",
       "    <tr>\n",
       "      <th>177</th>\n",
       "      <td>Phulka Panchratandal OnionPakoda PeruguPachadi...</td>\n",
       "      <td>21.93</td>\n",
       "      <td>650</td>\n",
       "    </tr>\n",
       "    <tr>\n",
       "      <th>45</th>\n",
       "      <td>SemiyaUpma Poha MysoreBonda</td>\n",
       "      <td>13.56</td>\n",
       "      <td>302</td>\n",
       "    </tr>\n",
       "    <tr>\n",
       "      <th>355</th>\n",
       "      <td>Dosa Chutney Rice MixedDal AlooPeasDry</td>\n",
       "      <td>17.62</td>\n",
       "      <td>712</td>\n",
       "    </tr>\n",
       "    <tr>\n",
       "      <th>21</th>\n",
       "      <td>Poori PotatoMasala</td>\n",
       "      <td>17.47</td>\n",
       "      <td>399</td>\n",
       "    </tr>\n",
       "    <tr>\n",
       "      <th>113</th>\n",
       "      <td>Phulka VegKurma BeetrootChannaPoriyal Rice Vat...</td>\n",
       "      <td>18.13</td>\n",
       "      <td>503</td>\n",
       "    </tr>\n",
       "  </tbody>\n",
       "</table>\n",
       "</div>"
      ],
      "text/plain": [
       "                                             Menu_Item  Westage  Count\n",
       "162  Poori DumAloo BeansCarrotPoriyal Rice Vathakol...    25.21    719\n",
       "88                     AlooParatha ChannaMasala Raitha    16.73    369\n",
       "78                                        Dosa Sambhar    13.70    296\n",
       "87                         SemiyaUpma Poha MysoreBonda    17.33    386\n",
       "232                                        OnionPakoda     4.33    363\n",
       "13                                  Pongal MysoreBonda    18.64    455\n",
       "96              Phulka CornPeasMasala SproutedDal Rice    14.73    427\n",
       "168    Phulka PeasMasala AlooMasalaWedges Rice Sambhar    26.52    761\n",
       "98     Phulka PeasMasala AlooMasalaWedges Rice Sambhar    17.49    502\n",
       "127  Phulka VegKurma BeetrootChannaPoriyal Rice Vat...    23.94    664\n",
       "46                     AlooParatha ChannaMasala Raitha    18.19    401\n",
       "192                                          SweetCorn     6.08    421\n",
       "91                                  Poori PotatoMasala    18.09    413\n",
       "360         Phulka MealMakerCurry FriedRice Manchurian    10.24    380\n",
       "264                                         ChannaChat     5.20    379\n",
       "177  Phulka Panchratandal OnionPakoda PeruguPachadi...    21.93    650\n",
       "45                         SemiyaUpma Poha MysoreBonda    13.56    302\n",
       "355             Dosa Chutney Rice MixedDal AlooPeasDry    17.62    712\n",
       "21                                  Poori PotatoMasala    17.47    399\n",
       "113  Phulka VegKurma BeetrootChannaPoriyal Rice Vat...    18.13    503"
      ]
     },
     "execution_count": 5,
     "metadata": {},
     "output_type": "execute_result"
    }
   ],
   "source": [
    "data['Menu_Item'] = data['Menu_Item'].apply(convert)\n",
    "data.sample(20)"
   ]
  },
  {
   "cell_type": "code",
   "execution_count": 7,
   "metadata": {},
   "outputs": [
    {
     "data": {
      "text/html": [
       "<div>\n",
       "<style scoped>\n",
       "    .dataframe tbody tr th:only-of-type {\n",
       "        vertical-align: middle;\n",
       "    }\n",
       "\n",
       "    .dataframe tbody tr th {\n",
       "        vertical-align: top;\n",
       "    }\n",
       "\n",
       "    .dataframe thead th {\n",
       "        text-align: right;\n",
       "    }\n",
       "</style>\n",
       "<table border=\"1\" class=\"dataframe\">\n",
       "  <thead>\n",
       "    <tr style=\"text-align: right;\">\n",
       "      <th></th>\n",
       "      <th>Menu_Item</th>\n",
       "      <th>Westage</th>\n",
       "      <th>Count</th>\n",
       "    </tr>\n",
       "  </thead>\n",
       "  <tbody>\n",
       "    <tr>\n",
       "      <th>0</th>\n",
       "      <td>Dosa</td>\n",
       "      <td>12.91</td>\n",
       "      <td>241</td>\n",
       "    </tr>\n",
       "    <tr>\n",
       "      <th>1</th>\n",
       "      <td>Idly Vada</td>\n",
       "      <td>18.03</td>\n",
       "      <td>428</td>\n",
       "    </tr>\n",
       "  </tbody>\n",
       "</table>\n",
       "</div>"
      ],
      "text/plain": [
       "   Menu_Item  Westage  Count\n",
       "0       Dosa    12.91    241\n",
       "1  Idly Vada    18.03    428"
      ]
     },
     "execution_count": 7,
     "metadata": {},
     "output_type": "execute_result"
    }
   ],
   "source": [
    "data.head(2)"
   ]
  },
  {
   "cell_type": "code",
   "execution_count": 8,
   "metadata": {},
   "outputs": [
    {
     "data": {
      "text/plain": [
       "str"
      ]
     },
     "execution_count": 8,
     "metadata": {},
     "output_type": "execute_result"
    }
   ],
   "source": [
    "type(data.iloc[1,0])"
   ]
  },
  {
   "cell_type": "code",
   "execution_count": 11,
   "metadata": {},
   "outputs": [
    {
     "data": {
      "text/plain": [
       "'Idly Vada'"
      ]
     },
     "execution_count": 11,
     "metadata": {},
     "output_type": "execute_result"
    }
   ],
   "source": [
    "data.iloc[1].Menu_Item"
   ]
  },
  {
   "cell_type": "code",
   "execution_count": 12,
   "metadata": {},
   "outputs": [
    {
     "data": {
      "text/plain": [
       "Menu_Item\n",
       "Dosa                                                                      13\n",
       "SweetCorn                                                                 13\n",
       "OnionPakoda                                                               13\n",
       "Idly Vada                                                                 13\n",
       "DahiVada                                                                  13\n",
       "AlooSamosa                                                                12\n",
       "Phulka ToorDal VegKurma Rice                                               7\n",
       "Idly Podi Chutney Rice Sambhar                                             7\n",
       "Phulka PaneerButterMasala Rice Sambhar                                     7\n",
       "BananaBajji                                                                7\n",
       "Maggi                                                                      7\n",
       "Dosa Rice Sambhar AlooPodimas                                              7\n",
       "MilletSnack                                                                7\n",
       "Pancake                                                                    7\n",
       "MirchiBajji                                                                7\n",
       "LachaParatha VegKofta Rice                                                 7\n",
       "Phulka MealMakerCurry FriedRice Manchurian                                 7\n",
       "Phulka KadaiPaneer VegBiryani Rice                                         7\n",
       "Phulka VegKurma BeetrootChannaPoriyal Rice Vathakolambu                    7\n",
       "Phulka PeasMasala AlooMasalaWedges Rice Sambhar                            7\n",
       "Poori PotatoMasala                                                         7\n",
       "Poori ChannaMasala                                                         7\n",
       "SemiyaUpma Poha MysoreBonda                                                7\n",
       "AlooParatha ChannaMasala Raitha                                            7\n",
       "Uthappam                                                                   7\n",
       "Pesarattu Upma                                                             7\n",
       "Phulka PalakPaneer VegBiryani                                              7\n",
       "Poori DumAloo BeansCarrotPoriyal Rice Vathakolambu                         7\n",
       "Phulka Panchratandal OnionPakoda PeruguPachadi Rice BrinjalMochaiGravy     7\n",
       "Phulka RajmaDal AlooGobiMatarDry Rice Sambhar                              7\n",
       "Phulka PumpkinKaalaChanna Rice BeetrootChanaPoriyal                        7\n",
       "Phulka CornPeasMasala SproutedDal Rice                                     7\n",
       "Phulka AlooGobiMatar PaneerBiryani                                         7\n",
       "Dosa Chutney Rice MixedDal AlooPeasDry                                     6\n",
       "SpecialDinner                                                              6\n",
       "Phulka ChannaPeasPalak Khichichadi Curd Rice Aloo65                        6\n",
       "Phulka VegCurry Rice Dal                                                   6\n",
       "Phulka MixVegKurma FriedRice Manchurian                                    6\n",
       "Phulka DalMakhani BhindiFry Rice Sambhar                                   6\n",
       "ChannaChat                                                                 6\n",
       "Phulka PaneerButterMasala VegBiryani OnionRaitha                           6\n",
       "Phulka MixVegCurry ChilliSoyaBeanDry PeruguPachadi Rice Sambhar            6\n",
       "Phulka MixVegMatar LaukiChanadal Gobi65 Rice                               6\n",
       "Poori PunjabiAlooMatar KovakaiFry Rice AndhraTomatoDal                     6\n",
       "Phulka MixedDal BrinjalPoriyal MixVegKarakozhambu                          6\n",
       "Pongal MysoreBonda                                                         6\n",
       "MethiParatha ChannaMasala                                                  6\n",
       "ChowChowBath MysoreBonda                                                   6\n",
       "Dosa Sambhar                                                               6\n",
       "CholeBhature OnionMirchSalad Rice SnakeGourdKootu                          6\n",
       "Name: count, dtype: int64"
      ]
     },
     "execution_count": 12,
     "metadata": {},
     "output_type": "execute_result"
    }
   ],
   "source": [
    "data.Menu_Item.value_counts()"
   ]
  },
  {
   "cell_type": "markdown",
   "metadata": {},
   "source": [
    "## Model "
   ]
  },
  {
   "cell_type": "code",
   "execution_count": 13,
   "metadata": {},
   "outputs": [],
   "source": [
    "from sklearn.feature_extraction.text import CountVectorizer\n",
    "\n",
    "cv = CountVectorizer()"
   ]
  },
  {
   "cell_type": "code",
   "execution_count": 15,
   "metadata": {},
   "outputs": [
    {
     "data": {
      "text/plain": [
       "(368, 87)"
      ]
     },
     "execution_count": 15,
     "metadata": {},
     "output_type": "execute_result"
    }
   ],
   "source": [
    "vectors = cv.fit_transform(data['Menu_Item']).toarray()\n",
    "vectors.shape"
   ]
  },
  {
   "cell_type": "code",
   "execution_count": 16,
   "metadata": {},
   "outputs": [
    {
     "data": {
      "text/plain": [
       "array([[0, 0, 0, ..., 0, 0, 0],\n",
       "       [0, 0, 0, ..., 0, 0, 0],\n",
       "       [0, 0, 0, ..., 0, 0, 0],\n",
       "       ...,\n",
       "       [0, 0, 0, ..., 0, 0, 0],\n",
       "       [0, 0, 0, ..., 0, 0, 1],\n",
       "       [0, 0, 0, ..., 0, 0, 0]], dtype=int64)"
      ]
     },
     "execution_count": 16,
     "metadata": {},
     "output_type": "execute_result"
    }
   ],
   "source": [
    "vectors"
   ]
  },
  {
   "cell_type": "code",
   "execution_count": 17,
   "metadata": {},
   "outputs": [
    {
     "data": {
      "text/plain": [
       "(87,)"
      ]
     },
     "execution_count": 17,
     "metadata": {},
     "output_type": "execute_result"
    }
   ],
   "source": [
    "vectors[0].shape"
   ]
  },
  {
   "cell_type": "code",
   "execution_count": null,
   "metadata": {},
   "outputs": [],
   "source": []
  }
 ],
 "metadata": {
  "kernelspec": {
   "display_name": "Python 3",
   "language": "python",
   "name": "python3"
  },
  "language_info": {
   "codemirror_mode": {
    "name": "ipython",
    "version": 3
   },
   "file_extension": ".py",
   "mimetype": "text/x-python",
   "name": "python",
   "nbconvert_exporter": "python",
   "pygments_lexer": "ipython3",
   "version": "3.11.1"
  }
 },
 "nbformat": 4,
 "nbformat_minor": 2
}

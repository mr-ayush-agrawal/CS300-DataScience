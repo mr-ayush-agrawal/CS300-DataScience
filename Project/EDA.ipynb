{
 "cells": [
  {
   "cell_type": "code",
   "execution_count": 2,
   "metadata": {},
   "outputs": [
    {
     "data": {
      "text/html": [
       "<div>\n",
       "<style scoped>\n",
       "    .dataframe tbody tr th:only-of-type {\n",
       "        vertical-align: middle;\n",
       "    }\n",
       "\n",
       "    .dataframe tbody tr th {\n",
       "        vertical-align: top;\n",
       "    }\n",
       "\n",
       "    .dataframe thead th {\n",
       "        text-align: right;\n",
       "    }\n",
       "</style>\n",
       "<table border=\"1\" class=\"dataframe\">\n",
       "  <thead>\n",
       "    <tr style=\"text-align: right;\">\n",
       "      <th></th>\n",
       "      <th>Day</th>\n",
       "      <th>Month</th>\n",
       "      <th>Year</th>\n",
       "      <th>Day_Of_Week</th>\n",
       "      <th>day_index</th>\n",
       "      <th>Breakfast</th>\n",
       "      <th>Breakfast_Wastage</th>\n",
       "      <th>Lunch</th>\n",
       "      <th>Lunch_Wastage</th>\n",
       "      <th>Snacks</th>\n",
       "      <th>Snacks_Wastage</th>\n",
       "      <th>Dinner</th>\n",
       "      <th>Dinner_Wastage</th>\n",
       "      <th>Total_Daily_Comsumers</th>\n",
       "      <th>Total_Daily_Wastage</th>\n",
       "      <th>BFMenu</th>\n",
       "      <th>LunchMenu</th>\n",
       "      <th>SnkMenu</th>\n",
       "      <th>DinMenu</th>\n",
       "    </tr>\n",
       "  </thead>\n",
       "  <tbody>\n",
       "    <tr>\n",
       "      <th>0</th>\n",
       "      <td>1</td>\n",
       "      <td>8</td>\n",
       "      <td>2023</td>\n",
       "      <td>Tue</td>\n",
       "      <td>1</td>\n",
       "      <td>241</td>\n",
       "      <td>12.91</td>\n",
       "      <td>522</td>\n",
       "      <td>18.30</td>\n",
       "      <td>291</td>\n",
       "      <td>4.99</td>\n",
       "      <td>456</td>\n",
       "      <td>12.29</td>\n",
       "      <td>1510</td>\n",
       "      <td>48.49</td>\n",
       "      <td>Dosa</td>\n",
       "      <td>Poori, Dum Aloo, Beans Carrot Poriyal, Rice, V...</td>\n",
       "      <td>Banana Bajji</td>\n",
       "      <td>Phulka, Meal Maker Curry, Fried Rice, Manchurian</td>\n",
       "    </tr>\n",
       "    <tr>\n",
       "      <th>1</th>\n",
       "      <td>2</td>\n",
       "      <td>8</td>\n",
       "      <td>2023</td>\n",
       "      <td>Wed</td>\n",
       "      <td>2</td>\n",
       "      <td>428</td>\n",
       "      <td>18.03</td>\n",
       "      <td>623</td>\n",
       "      <td>21.02</td>\n",
       "      <td>319</td>\n",
       "      <td>4.56</td>\n",
       "      <td>674</td>\n",
       "      <td>17.37</td>\n",
       "      <td>2044</td>\n",
       "      <td>60.98</td>\n",
       "      <td>Idly, Vada</td>\n",
       "      <td>Phulka, Panchratan dal, Onion Pakoda, Perugu P...</td>\n",
       "      <td>Dahi Vada</td>\n",
       "      <td>Phulka, Palak Paneer, Veg Biryani</td>\n",
       "    </tr>\n",
       "  </tbody>\n",
       "</table>\n",
       "</div>"
      ],
      "text/plain": [
       "   Day  Month  Year Day_Of_Week  day_index  Breakfast  Breakfast_Wastage  \\\n",
       "0    1      8  2023         Tue          1        241              12.91   \n",
       "1    2      8  2023         Wed          2        428              18.03   \n",
       "\n",
       "   Lunch  Lunch_Wastage  Snacks  Snacks_Wastage  Dinner  Dinner_Wastage  \\\n",
       "0    522          18.30     291            4.99     456           12.29   \n",
       "1    623          21.02     319            4.56     674           17.37   \n",
       "\n",
       "   Total_Daily_Comsumers  Total_Daily_Wastage      BFMenu  \\\n",
       "0                   1510                48.49        Dosa   \n",
       "1                   2044                60.98  Idly, Vada   \n",
       "\n",
       "                                           LunchMenu       SnkMenu  \\\n",
       "0  Poori, Dum Aloo, Beans Carrot Poriyal, Rice, V...  Banana Bajji   \n",
       "1  Phulka, Panchratan dal, Onion Pakoda, Perugu P...     Dahi Vada   \n",
       "\n",
       "                                            DinMenu  \n",
       "0  Phulka, Meal Maker Curry, Fried Rice, Manchurian  \n",
       "1                 Phulka, Palak Paneer, Veg Biryani  "
      ]
     },
     "execution_count": 2,
     "metadata": {},
     "output_type": "execute_result"
    }
   ],
   "source": [
    "import pandas as pd \n",
    "data = pd.read_csv('Merged.csv')\n",
    "data.head(2)"
   ]
  },
  {
   "cell_type": "code",
   "execution_count": 3,
   "metadata": {},
   "outputs": [
    {
     "data": {
      "text/plain": [
       "str"
      ]
     },
     "execution_count": 3,
     "metadata": {},
     "output_type": "execute_result"
    }
   ],
   "source": [
    "type(data.iloc[0].BFMenu)"
   ]
  },
  {
   "cell_type": "markdown",
   "metadata": {},
   "source": [
    "### Converting The Menu \n",
    "Current it is in the String format to List "
   ]
  },
  {
   "cell_type": "code",
   "execution_count": 4,
   "metadata": {},
   "outputs": [],
   "source": [
    "def convert(obj):\n",
    "    lst = obj.split(', ')\n",
    "    Final = []\n",
    "    for dish in lst:\n",
    "        Final.append(dish.replace(' ',''))\n",
    "\n",
    "    return \" \".join(Final)"
   ]
  },
  {
   "cell_type": "code",
   "execution_count": 5,
   "metadata": {},
   "outputs": [],
   "source": [
    "data['BFMenu'] = data['BFMenu'].apply(convert)\n",
    "data['LunchMenu'] = data['LunchMenu'].apply(convert)\n",
    "data['SnkMenu'] = data['SnkMenu'].apply(convert)\n",
    "data['DinMenu'] = data['DinMenu'].apply(convert)\n"
   ]
  },
  {
   "cell_type": "code",
   "execution_count": 6,
   "metadata": {},
   "outputs": [
    {
     "data": {
      "text/html": [
       "<div>\n",
       "<style scoped>\n",
       "    .dataframe tbody tr th:only-of-type {\n",
       "        vertical-align: middle;\n",
       "    }\n",
       "\n",
       "    .dataframe tbody tr th {\n",
       "        vertical-align: top;\n",
       "    }\n",
       "\n",
       "    .dataframe thead th {\n",
       "        text-align: right;\n",
       "    }\n",
       "</style>\n",
       "<table border=\"1\" class=\"dataframe\">\n",
       "  <thead>\n",
       "    <tr style=\"text-align: right;\">\n",
       "      <th></th>\n",
       "      <th>Day</th>\n",
       "      <th>Month</th>\n",
       "      <th>Year</th>\n",
       "      <th>Day_Of_Week</th>\n",
       "      <th>day_index</th>\n",
       "      <th>Breakfast</th>\n",
       "      <th>Breakfast_Wastage</th>\n",
       "      <th>Lunch</th>\n",
       "      <th>Lunch_Wastage</th>\n",
       "      <th>Snacks</th>\n",
       "      <th>Snacks_Wastage</th>\n",
       "      <th>Dinner</th>\n",
       "      <th>Dinner_Wastage</th>\n",
       "      <th>Total_Daily_Comsumers</th>\n",
       "      <th>Total_Daily_Wastage</th>\n",
       "      <th>BFMenu</th>\n",
       "      <th>LunchMenu</th>\n",
       "      <th>SnkMenu</th>\n",
       "      <th>DinMenu</th>\n",
       "    </tr>\n",
       "  </thead>\n",
       "  <tbody>\n",
       "    <tr>\n",
       "      <th>0</th>\n",
       "      <td>1</td>\n",
       "      <td>8</td>\n",
       "      <td>2023</td>\n",
       "      <td>Tue</td>\n",
       "      <td>1</td>\n",
       "      <td>241</td>\n",
       "      <td>12.91</td>\n",
       "      <td>522</td>\n",
       "      <td>18.3</td>\n",
       "      <td>291</td>\n",
       "      <td>4.99</td>\n",
       "      <td>456</td>\n",
       "      <td>12.29</td>\n",
       "      <td>1510</td>\n",
       "      <td>48.49</td>\n",
       "      <td>Dosa</td>\n",
       "      <td>Poori DumAloo BeansCarrotPoriyal Rice Vathakol...</td>\n",
       "      <td>BananaBajji</td>\n",
       "      <td>Phulka MealMakerCurry FriedRice Manchurian</td>\n",
       "    </tr>\n",
       "  </tbody>\n",
       "</table>\n",
       "</div>"
      ],
      "text/plain": [
       "   Day  Month  Year Day_Of_Week  day_index  Breakfast  Breakfast_Wastage  \\\n",
       "0    1      8  2023         Tue          1        241              12.91   \n",
       "\n",
       "   Lunch  Lunch_Wastage  Snacks  Snacks_Wastage  Dinner  Dinner_Wastage  \\\n",
       "0    522           18.3     291            4.99     456           12.29   \n",
       "\n",
       "   Total_Daily_Comsumers  Total_Daily_Wastage BFMenu  \\\n",
       "0                   1510                48.49   Dosa   \n",
       "\n",
       "                                           LunchMenu      SnkMenu  \\\n",
       "0  Poori DumAloo BeansCarrotPoriyal Rice Vathakol...  BananaBajji   \n",
       "\n",
       "                                      DinMenu  \n",
       "0  Phulka MealMakerCurry FriedRice Manchurian  "
      ]
     },
     "execution_count": 6,
     "metadata": {},
     "output_type": "execute_result"
    }
   ],
   "source": [
    "data.head(1)"
   ]
  },
  {
   "cell_type": "code",
   "execution_count": 7,
   "metadata": {},
   "outputs": [
    {
     "data": {
      "text/plain": [
       "'Poori DumAloo BeansCarrotPoriyal Rice Vathakolambu'"
      ]
     },
     "execution_count": 7,
     "metadata": {},
     "output_type": "execute_result"
    }
   ],
   "source": [
    "data.iloc[0].LunchMenu"
   ]
  },
  {
   "cell_type": "code",
   "execution_count": 8,
   "metadata": {},
   "outputs": [
    {
     "data": {
      "text/plain": [
       "LunchMenu\n",
       "Poori DumAloo BeansCarrotPoriyal Rice Vathakolambu                        7\n",
       "Phulka Panchratandal OnionPakoda PeruguPachadi Rice BrinjalMochaiGravy    7\n",
       "Phulka RajmaDal AlooGobiMatarDry Rice Sambhar                             7\n",
       "Phulka PumpkinKaalaChanna Rice BeetrootChanaPoriyal                       7\n",
       "Phulka CornPeasMasala SproutedDal Rice                                    7\n",
       "Phulka AlooGobiMatar PaneerBiryani                                        7\n",
       "Phulka PeasMasala AlooMasalaWedges Rice Sambhar                           7\n",
       "Phulka VegKurma BeetrootChannaPoriyal Rice Vathakolambu                   7\n",
       "Phulka MixedDal BrinjalPoriyal MixVegKarakozhambu                         6\n",
       "Poori PunjabiAlooMatar KovakaiFry Rice AndhraTomatoDal                    6\n",
       "Phulka MixVegMatar LaukiChanadal Gobi65 Rice                              6\n",
       "Phulka MixVegCurry ChilliSoyaBeanDry PeruguPachadi Rice Sambhar           6\n",
       "Phulka PaneerButterMasala VegBiryani OnionRaitha                          6\n",
       "Phulka DalMakhani BhindiFry Rice Sambhar                                  6\n",
       "Name: count, dtype: int64"
      ]
     },
     "execution_count": 8,
     "metadata": {},
     "output_type": "execute_result"
    }
   ],
   "source": [
    "data.LunchMenu.value_counts()"
   ]
  },
  {
   "cell_type": "code",
   "execution_count": 9,
   "metadata": {},
   "outputs": [
    {
     "data": {
      "text/plain": [
       "87"
      ]
     },
     "execution_count": 9,
     "metadata": {},
     "output_type": "execute_result"
    }
   ],
   "source": [
    "# Checking Different Meals in the menu\n",
    "\n",
    "y =[]\n",
    "\n",
    "x = [data.LunchMenu[x].split() for x in range(15)]\n",
    "for i in x:\n",
    "    for j in i:\n",
    "        y.append(j)\n",
    "\n",
    "x = [data.BFMenu[x].split() for x in range(15)]\n",
    "for i in x:\n",
    "    for j in i:\n",
    "        y.append(j)\n",
    "\n",
    "x = [data.SnkMenu[x].split() for x in range(15)]\n",
    "for i in x:\n",
    "    for j in i:\n",
    "        y.append(j)\n",
    "        \n",
    "x = [data.DinMenu[x].split() for x in range(15)]\n",
    "for i in x:\n",
    "    for j in i:\n",
    "        y.append(j)\n",
    "\n",
    "y = set(y)\n",
    "len(y)"
   ]
  },
  {
   "cell_type": "code",
   "execution_count": 10,
   "metadata": {},
   "outputs": [
    {
     "data": {
      "text/plain": [
       "92"
      ]
     },
     "execution_count": 10,
     "metadata": {},
     "output_type": "execute_result"
    }
   ],
   "source": [
    "len(data)"
   ]
  },
  {
   "cell_type": "code",
   "execution_count": 11,
   "metadata": {},
   "outputs": [
    {
     "data": {
      "text/plain": [
       "{'Aloo65',\n",
       " 'AlooGobiMatar',\n",
       " 'AlooGobiMatarDry',\n",
       " 'AlooMasalaWedges',\n",
       " 'AlooParatha',\n",
       " 'AlooPeasDry',\n",
       " 'AlooPodimas',\n",
       " 'AlooSamosa',\n",
       " 'AndhraTomatoDal',\n",
       " 'BananaBajji',\n",
       " 'BeansCarrotPoriyal',\n",
       " 'BeetrootChanaPoriyal',\n",
       " 'BeetrootChannaPoriyal',\n",
       " 'BhindiFry',\n",
       " 'BrinjalMochaiGravy',\n",
       " 'BrinjalPoriyal',\n",
       " 'ChannaChat',\n",
       " 'ChannaMasala',\n",
       " 'ChannaPeasPalak',\n",
       " 'ChilliSoyaBeanDry',\n",
       " 'CholeBhature',\n",
       " 'ChowChowBath',\n",
       " 'Chutney',\n",
       " 'CornPeasMasala',\n",
       " 'Curd',\n",
       " 'DahiVada',\n",
       " 'Dal',\n",
       " 'DalMakhani',\n",
       " 'Dosa',\n",
       " 'DumAloo',\n",
       " 'FriedRice',\n",
       " 'Gobi65',\n",
       " 'Idly',\n",
       " 'KadaiPaneer',\n",
       " 'Khichichadi',\n",
       " 'KovakaiFry',\n",
       " 'LachaParatha',\n",
       " 'LaukiChanadal',\n",
       " 'Maggi',\n",
       " 'Manchurian',\n",
       " 'MealMakerCurry',\n",
       " 'MethiParatha',\n",
       " 'MilletSnack',\n",
       " 'MirchiBajji',\n",
       " 'MixVegCurry',\n",
       " 'MixVegKarakozhambu',\n",
       " 'MixVegKurma',\n",
       " 'MixVegMatar',\n",
       " 'MixedDal',\n",
       " 'MysoreBonda',\n",
       " 'OnionMirchSalad',\n",
       " 'OnionPakoda',\n",
       " 'OnionRaitha',\n",
       " 'PalakPaneer',\n",
       " 'Pancake',\n",
       " 'Panchratandal',\n",
       " 'PaneerBiryani',\n",
       " 'PaneerButterMasala',\n",
       " 'PeasMasala',\n",
       " 'PeruguPachadi',\n",
       " 'Pesarattu',\n",
       " 'Phulka',\n",
       " 'Podi',\n",
       " 'Poha',\n",
       " 'Pongal',\n",
       " 'Poori',\n",
       " 'PotatoMasala',\n",
       " 'PumpkinKaalaChanna',\n",
       " 'PunjabiAlooMatar',\n",
       " 'Raitha',\n",
       " 'RajmaDal',\n",
       " 'Rice',\n",
       " 'Sambhar',\n",
       " 'SemiyaUpma',\n",
       " 'SnakeGourdKootu',\n",
       " 'SpecialDinner',\n",
       " 'SproutedDal',\n",
       " 'SweetCorn',\n",
       " 'ToorDal',\n",
       " 'Upma',\n",
       " 'Uthappam',\n",
       " 'Vada',\n",
       " 'Vathakolambu',\n",
       " 'VegBiryani',\n",
       " 'VegCurry',\n",
       " 'VegKofta',\n",
       " 'VegKurma'}"
      ]
     },
     "execution_count": 11,
     "metadata": {},
     "output_type": "execute_result"
    }
   ],
   "source": [
    "y"
   ]
  },
  {
   "cell_type": "code",
   "execution_count": null,
   "metadata": {},
   "outputs": [],
   "source": []
  }
 ],
 "metadata": {
  "kernelspec": {
   "display_name": "Python 3",
   "language": "python",
   "name": "python3"
  },
  "language_info": {
   "codemirror_mode": {
    "name": "ipython",
    "version": 3
   },
   "file_extension": ".py",
   "mimetype": "text/x-python",
   "name": "python",
   "nbconvert_exporter": "python",
   "pygments_lexer": "ipython3",
   "version": "3.11.1"
  }
 },
 "nbformat": 4,
 "nbformat_minor": 2
}
